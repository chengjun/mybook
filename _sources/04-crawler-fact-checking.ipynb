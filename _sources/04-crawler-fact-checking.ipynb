{
 "cells": [
  {
   "cell_type": "markdown",
   "metadata": {
    "slideshow": {
     "slide_type": "slide"
    }
   },
   "source": [
    "# 抓取实时辟谣数据\n",
    "\n",
    "\n",
    "https://vp.fact.qq.com/home"
   ]
  },
  {
   "cell_type": "markdown",
   "metadata": {
    "ExecuteTime": {
     "end_time": "2020-03-03T14:37:17.153858Z",
     "start_time": "2020-03-03T14:37:17.150432Z"
    },
    "slideshow": {
     "slide_type": "subslide"
    }
   },
   "source": [
    "\n",
    "\n",
    "![image.png](./images/fact.png)\n",
    "\n",
    "https://vp.fact.qq.com/article?id=be3aea585b07c193778985e180cf164b\n",
    "\n"
   ]
  },
  {
   "cell_type": "markdown",
   "metadata": {
    "slideshow": {
     "slide_type": "subslide"
    }
   },
   "source": [
    "https://vp.fact.qq.com/loadmore?artnum=0&page=0\n",
    "\n",
    "![image.png](./images/fact2.png)\n"
   ]
  },
  {
   "cell_type": "markdown",
   "metadata": {
    "slideshow": {
     "slide_type": "subslide"
    }
   },
   "source": [
    "https://vp.fact.qq.com/loadmore?artnum=0&page=0\n",
    "\n",
    "![image.png](./images/fact3.png)"
   ]
  },
  {
   "cell_type": "markdown",
   "metadata": {
    "slideshow": {
     "slide_type": "subslide"
    }
   },
   "source": [
    "## 如何使用快捷键打开开发者工具\n",
    "\n",
    "To open the developer console in Google Chrome, open the Chrome Menu in the upper-right-hand corner of the browser window and select More Tools > Developer Tools. You can also use `Option + ⌘ + J` (on macOS), or `Shift + CTRL + J` (on Windows/Linux)."
   ]
  },
  {
   "cell_type": "markdown",
   "metadata": {
    "slideshow": {
     "slide_type": "subslide"
    }
   },
   "source": [
    "https://vp.fact.qq.com/api/article/list?page=100&locale=zh-CN&token=U2FsdGVkX186uQh1zecOEhKWJnvgDYAkh7N%252BVBnRrbNgyzif9Sj5PmJ1vRBoqtIo\n",
    "\n",
    "![image.png](./images/fact4.png)"
   ]
  },
  {
   "cell_type": "markdown",
   "metadata": {
    "slideshow": {
     "slide_type": "subslide"
    }
   },
   "source": [
    "![image.png](./images/fact5.png)"
   ]
  },
  {
   "cell_type": "code",
   "execution_count": 1,
   "metadata": {
    "ExecuteTime": {
     "end_time": "2023-10-27T07:47:06.390250Z",
     "start_time": "2023-10-27T07:47:05.651570Z"
    },
    "slideshow": {
     "slide_type": "slide"
    }
   },
   "outputs": [],
   "source": [
    "import requests\n",
    "from bs4 import BeautifulSoup\n",
    "\n",
    "# path = 'https://vp.fact.qq.com/api/article/list?locale=zh-CN&token=U2FsdGVkX1%252BSf5tazIgNXUkfSRI81VMClXBoG5lAMez6vJJWe%252BfsQqejh9QTvts7&page='\n",
    "path = 'https://vp.fact.qq.com/api/article/list?locale=zh-CN&token=U2FsdGVkX18wJCxvmPFL5AV2K4up19%252Fjtp2T%252F5nJsBZrsPhH9WhvW7smZP%252BVVcO9&page='\n",
    "\n",
    "url = path + '100'\n",
    "content = requests.get(url)\n",
    "d = content.json()"
   ]
  },
  {
   "cell_type": "code",
   "execution_count": 9,
   "metadata": {
    "ExecuteTime": {
     "end_time": "2023-10-27T07:48:07.814806Z",
     "start_time": "2023-10-27T07:48:07.809923Z"
    }
   },
   "outputs": [
    {
     "data": {
      "text/plain": [
       "{'title': '郑州上午九点到十一点将空中喷洒消杀药物',\n",
       " 'author': '郑州电台新闻广播官方微博',\n",
       " 'authordesc': '郑州电台新闻广播官方微博',\n",
       " 'id': 'd087b691eab2d89d7e177a299e183818',\n",
       " 'Author': {'id': 1234,\n",
       "  'name': '郑州新闻广播',\n",
       "  'desc': '郑州电台新闻广播官方微博',\n",
       "  'head': 'http://p.qpic.cn/jiaozhen/0/b6e73b0df15e4f6b90edd91f98ab3721/0',\n",
       "  'level': 0,\n",
       "  'artList': None,\n",
       "  'openid': '',\n",
       "  'unionid': '',\n",
       "  'inviteId': '',\n",
       "  'nickname': '',\n",
       "  'headimgurl': '',\n",
       "  'ext1': '',\n",
       "  'ext2': None,\n",
       "  'ext3': None,\n",
       "  'ext4': None,\n",
       "  'ext5': None,\n",
       "  'createdAt': '2020-01-25T04:15:12.000Z',\n",
       "  'updatedAt': '2020-01-25T04:15:12.000Z'},\n",
       " 'date': '2020-01-25',\n",
       " 'markstyle': 'fake',\n",
       " 'result': '假',\n",
       " 'explain': '谣言',\n",
       " 'abstract': '郑州新闻广播记者拨打了12345市长热线，接线员说，并没有收到相关消毒通知。随后，记者又电话联系上河南省疾控中心，相关负责人告知，他们也没有收到相关通知。\\n郑州市疫情应急指挥中心的工作人员称，此条所谓的应急通知系谣言，如果有需要喷洒消杀药物，他们会提前进行告知。',\n",
       " 'tag': ['肺炎', '新型冠状病毒'],\n",
       " 'type': 1,\n",
       " 'videourl': '',\n",
       " 'cover': '//jiaozhen-70111.picnjc.qpic.cn/f1c1cb261d2a4dc5823e36a8ea30e606?imageView2/2/w/150/h/90',\n",
       " 'coverrect': '//jiaozhen-70111.picnjc.qpic.cn/f1c1cb261d2a4dc5823e36a8ea30e606',\n",
       " 'coversqual': '//jiaozhen-70111.picnjc.qpic.cn/f1c1cb261d2a4dc5823e36a8ea30e606?imageView2/2/w/300/h/300',\n",
       " 'section': '',\n",
       " 'iscolled': False,\n",
       " 'arttype': 'normal'}"
      ]
     },
     "execution_count": 9,
     "metadata": {},
     "output_type": "execute_result"
    }
   ],
   "source": [
    "d['data']['list'][9]"
   ]
  },
  {
   "cell_type": "code",
   "execution_count": 8,
   "metadata": {
    "ExecuteTime": {
     "end_time": "2023-10-27T07:47:54.415276Z",
     "start_time": "2023-10-27T07:47:54.410244Z"
    },
    "slideshow": {
     "slide_type": "subslide"
    }
   },
   "outputs": [
    {
     "data": {
      "text/plain": [
       "19"
      ]
     },
     "execution_count": 8,
     "metadata": {},
     "output_type": "execute_result"
    }
   ],
   "source": [
    "len(d['data']['list'][0])"
   ]
  },
  {
   "cell_type": "code",
   "execution_count": 26,
   "metadata": {},
   "outputs": [
    {
     "name": "stdout",
     "output_type": "stream",
     "text": [
      "Help on built-in function print in module builtins:\n",
      "\n",
      "print(...)\n",
      "    print(value, ..., sep=' ', end='\\n', file=sys.stdout, flush=False)\n",
      "    \n",
      "    Prints the values to a stream, or to sys.stdout by default.\n",
      "    Optional keyword arguments:\n",
      "    file:  a file-like object (stream); defaults to the current sys.stdout.\n",
      "    sep:   string inserted between values, default a space.\n",
      "    end:   string appended after the last value, default a newline.\n",
      "    flush: whether to forcibly flush the stream.\n",
      "\n"
     ]
    }
   ],
   "source": [
    "help(print)"
   ]
  },
  {
   "cell_type": "code",
   "execution_count": 9,
   "metadata": {
    "ExecuteTime": {
     "end_time": "2021-10-25T08:23:21.147241Z",
     "start_time": "2021-10-25T08:23:21.136660Z"
    },
    "slideshow": {
     "slide_type": "subslide"
    }
   },
   "outputs": [
    {
     "name": "stdout",
     "output_type": "stream",
     "text": [
      "100\r"
     ]
    }
   ],
   "source": [
    "from time import sleep\n",
    "import random\n",
    "\n",
    "for i in range(1, 100+1):\n",
    "    sleep(random.random())\n",
    "    print(i, end = '\\r')"
   ]
  },
  {
   "cell_type": "code",
   "execution_count": 4,
   "metadata": {
    "ExecuteTime": {
     "end_time": "2021-10-25T08:23:31.788908Z",
     "start_time": "2021-10-25T08:23:31.784831Z"
    },
    "slideshow": {
     "slide_type": "subslide"
    }
   },
   "outputs": [
    {
     "data": {
      "text/plain": [
       "0.7456690859449465"
      ]
     },
     "execution_count": 4,
     "metadata": {},
     "output_type": "execute_result"
    }
   ],
   "source": [
    "import random\n",
    "\n",
    "random.random()"
   ]
  },
  {
   "cell_type": "code",
   "execution_count": 10,
   "metadata": {
    "ExecuteTime": {
     "end_time": "2023-10-27T07:50:48.563252Z",
     "start_time": "2023-10-27T07:49:26.910342Z"
    },
    "slideshow": {
     "slide_type": "subslide"
    }
   },
   "outputs": [
    {
     "name": "stdout",
     "output_type": "stream",
     "text": [
      "104\r"
     ]
    }
   ],
   "source": [
    "from time import sleep\n",
    "import random\n",
    "\n",
    "jsons = []\n",
    "for i in range(104+1):\n",
    "    print(i, end= '\\r')\n",
    "    sleep(random.random())\n",
    "    path = 'https://vp.fact.qq.com/api/article/list?locale=zh-CN&token=U2FsdGVkX18wJCxvmPFL5AV2K4up19%252Fjtp2T%252F5nJsBZrsPhH9WhvW7smZP%252BVVcO9&page='\n",
    "    url = path + str(i)\n",
    "    content = requests.get(url)\n",
    "    d = content.json()\n",
    "    for j in d['data']['list']:\n",
    "        jsons.append(j)"
   ]
  },
  {
   "cell_type": "code",
   "execution_count": 11,
   "metadata": {
    "ExecuteTime": {
     "end_time": "2023-10-27T07:50:53.391690Z",
     "start_time": "2023-10-27T07:50:53.387616Z"
    },
    "slideshow": {
     "slide_type": "subslide"
    }
   },
   "outputs": [
    {
     "data": {
      "text/plain": [
       "1025"
      ]
     },
     "execution_count": 11,
     "metadata": {},
     "output_type": "execute_result"
    }
   ],
   "source": [
    "len(jsons)"
   ]
  },
  {
   "cell_type": "code",
   "execution_count": 12,
   "metadata": {
    "ExecuteTime": {
     "end_time": "2023-10-27T07:51:08.769265Z",
     "start_time": "2023-10-27T07:50:59.865855Z"
    },
    "slideshow": {
     "slide_type": "subslide"
    }
   },
   "outputs": [
    {
     "data": {
      "text/html": [
       "<div>\n",
       "<style scoped>\n",
       "    .dataframe tbody tr th:only-of-type {\n",
       "        vertical-align: middle;\n",
       "    }\n",
       "\n",
       "    .dataframe tbody tr th {\n",
       "        vertical-align: top;\n",
       "    }\n",
       "\n",
       "    .dataframe thead th {\n",
       "        text-align: right;\n",
       "    }\n",
       "</style>\n",
       "<table border=\"1\" class=\"dataframe\">\n",
       "  <thead>\n",
       "    <tr style=\"text-align: right;\">\n",
       "      <th></th>\n",
       "      <th>title</th>\n",
       "      <th>author</th>\n",
       "      <th>authordesc</th>\n",
       "      <th>id</th>\n",
       "      <th>Author</th>\n",
       "      <th>date</th>\n",
       "      <th>markstyle</th>\n",
       "      <th>result</th>\n",
       "      <th>explain</th>\n",
       "      <th>abstract</th>\n",
       "      <th>tag</th>\n",
       "      <th>type</th>\n",
       "      <th>videourl</th>\n",
       "      <th>cover</th>\n",
       "      <th>coverrect</th>\n",
       "      <th>coversqual</th>\n",
       "      <th>section</th>\n",
       "      <th>iscolled</th>\n",
       "      <th>arttype</th>\n",
       "    </tr>\n",
       "  </thead>\n",
       "  <tbody>\n",
       "    <tr>\n",
       "      <th>0</th>\n",
       "      <td>北京协和医院有武汉肺炎患者出逃</td>\n",
       "      <td>综合类大型城市日报</td>\n",
       "      <td>综合类大型城市日报</td>\n",
       "      <td>502100d9aaf5d5ed23850933140f8088</td>\n",
       "      <td>{'id': 961, 'name': '新京报', 'desc': '综合类大型城市日报'...</td>\n",
       "      <td>2020-01-22</td>\n",
       "      <td>fake</td>\n",
       "      <td>假</td>\n",
       "      <td>谣言</td>\n",
       "      <td>新京报记者致电北京协和医院，工作人员表示，该患者按照流程操作进行诊断和治疗，没有出逃。\\n该...</td>\n",
       "      <td>[协和医院, 新型冠状病毒]</td>\n",
       "      <td>1</td>\n",
       "      <td></td>\n",
       "      <td>//jiaozhen-70111.picnjc.qpic.cn/1d25062126f0b8...</td>\n",
       "      <td>//jiaozhen-70111.picnjc.qpic.cn/1d25062126f0b8...</td>\n",
       "      <td>//jiaozhen-70111.picnjc.qpic.cn/1d25062126f0b8...</td>\n",
       "      <td></td>\n",
       "      <td>False</td>\n",
       "      <td>normal</td>\n",
       "    </tr>\n",
       "    <tr>\n",
       "      <th>1</th>\n",
       "      <td>新型冠状病毒抗体能治疗和预防肺炎</td>\n",
       "      <td>药理学硕士，知贝儿科药师</td>\n",
       "      <td>药理学硕士，知贝儿科药师</td>\n",
       "      <td>d024bb6fdb1f60a8a785dd83c9a935d4</td>\n",
       "      <td>{'id': 226, 'name': '谢望时', 'desc': '药理学硕士，知贝儿科...</td>\n",
       "      <td>2020-01-22</td>\n",
       "      <td>fake</td>\n",
       "      <td>假</td>\n",
       "      <td>谣言</td>\n",
       "      <td>京天成这次通报成功研制的抗体叫“2019冠状病毒N蛋白抗体”，理论上可以识别新型冠状病毒，以...</td>\n",
       "      <td>[抗体, 新型冠状病毒]</td>\n",
       "      <td>1</td>\n",
       "      <td></td>\n",
       "      <td>//jiaozhen-70111.picnjc.qpic.cn/f0a11b7c9a84ef...</td>\n",
       "      <td>//jiaozhen-70111.picnjc.qpic.cn/f0a11b7c9a84ef...</td>\n",
       "      <td>//jiaozhen-70111.picnjc.qpic.cn/f0a11b7c9a84ef...</td>\n",
       "      <td></td>\n",
       "      <td>False</td>\n",
       "      <td>normal</td>\n",
       "    </tr>\n",
       "    <tr>\n",
       "      <th>2</th>\n",
       "      <td>口罩正确戴法：感冒时有颜色的朝外，没感冒反过来</td>\n",
       "      <td>国际谣言查证机构</td>\n",
       "      <td>国际谣言查证机构</td>\n",
       "      <td>ca1dd5415f6acd1fbf7c22fd1e6e3dc1</td>\n",
       "      <td>{'id': 501, 'name': '反海外谣言中心', 'desc': '国际谣言查证...</td>\n",
       "      <td>2020-01-22</td>\n",
       "      <td>fake</td>\n",
       "      <td>假</td>\n",
       "      <td>谣言</td>\n",
       "      <td>口罩正确的戴法是，有颜色的那一面（通常是绿色、蓝色或者粉红色）应该朝外，白色的那一面朝内。无...</td>\n",
       "      <td>[口罩, 新型冠状病毒]</td>\n",
       "      <td>1</td>\n",
       "      <td></td>\n",
       "      <td>//jiaozhen-70111.picnjc.qpic.cn/61bb516ad6174f...</td>\n",
       "      <td>//jiaozhen-70111.picnjc.qpic.cn/61bb516ad6174f...</td>\n",
       "      <td>//jiaozhen-70111.picnjc.qpic.cn/61bb516ad6174f...</td>\n",
       "      <td></td>\n",
       "      <td>False</td>\n",
       "      <td>normal</td>\n",
       "    </tr>\n",
       "    <tr>\n",
       "      <th>3</th>\n",
       "      <td>这个玻璃装置是“隔离舱”，用它进行患者的隔离</td>\n",
       "      <td>医学博士、副主任医师、中华医学会科普分会青年委员</td>\n",
       "      <td>医学博士、副主任医师、中华医学会科普分会青年委员</td>\n",
       "      <td>762167361e181d478652f85ac76fe34d</td>\n",
       "      <td>{'id': 13, 'name': '胡远东', 'desc': '医学博士、副主任医师、...</td>\n",
       "      <td>2020-01-22</td>\n",
       "      <td>fake</td>\n",
       "      <td>假</td>\n",
       "      <td>谣言</td>\n",
       "      <td>这个装置学名叫隔离担架，主要用途是转运传染性疾病患者或者疑似患者，避免在转运过程中发生继发性...</td>\n",
       "      <td>[隔离, 传染]</td>\n",
       "      <td>1</td>\n",
       "      <td></td>\n",
       "      <td>//jiaozhen-70111.picnjc.qpic.cn/b0d32b60f5e90b...</td>\n",
       "      <td>//jiaozhen-70111.picnjc.qpic.cn/b0d32b60f5e90b...</td>\n",
       "      <td>//jiaozhen-70111.picnjc.qpic.cn/b0d32b60f5e90b...</td>\n",
       "      <td></td>\n",
       "      <td>False</td>\n",
       "      <td>normal</td>\n",
       "    </tr>\n",
       "    <tr>\n",
       "      <th>4</th>\n",
       "      <td>放烟花爆竹可以消毒，预防瘟疫</td>\n",
       "      <td>医学博士、副主任医师、中华医学会科普分会青年委员</td>\n",
       "      <td>医学博士、副主任医师、中华医学会科普分会青年委员</td>\n",
       "      <td>a54f4a260301565af3454048724350f5</td>\n",
       "      <td>{'id': 13, 'name': '胡远东', 'desc': '医学博士、副主任医师、...</td>\n",
       "      <td>2020-01-21</td>\n",
       "      <td>fake</td>\n",
       "      <td>假</td>\n",
       "      <td>伪科学</td>\n",
       "      <td>农业上确实有在大棚中燃烧硫磺杀灭害虫细菌的做法，但没有将硫化物用于医疗环境中的做法，因为硫化...</td>\n",
       "      <td>[烟花爆竹, 瘟疫]</td>\n",
       "      <td>1</td>\n",
       "      <td></td>\n",
       "      <td>//jiaozhen-70111.picnjc.qpic.cn/814be59fed9db8...</td>\n",
       "      <td>//jiaozhen-70111.picnjc.qpic.cn/814be59fed9db8...</td>\n",
       "      <td>//jiaozhen-70111.picnjc.qpic.cn/814be59fed9db8...</td>\n",
       "      <td></td>\n",
       "      <td>False</td>\n",
       "      <td>normal</td>\n",
       "    </tr>\n",
       "  </tbody>\n",
       "</table>\n",
       "</div>"
      ],
      "text/plain": [
       "                     title                    author  \\\n",
       "0          北京协和医院有武汉肺炎患者出逃                 综合类大型城市日报   \n",
       "1         新型冠状病毒抗体能治疗和预防肺炎              药理学硕士，知贝儿科药师   \n",
       "2  口罩正确戴法：感冒时有颜色的朝外，没感冒反过来                  国际谣言查证机构   \n",
       "3   这个玻璃装置是“隔离舱”，用它进行患者的隔离  医学博士、副主任医师、中华医学会科普分会青年委员   \n",
       "4           放烟花爆竹可以消毒，预防瘟疫  医学博士、副主任医师、中华医学会科普分会青年委员   \n",
       "\n",
       "                 authordesc                                id  \\\n",
       "0                 综合类大型城市日报  502100d9aaf5d5ed23850933140f8088   \n",
       "1              药理学硕士，知贝儿科药师  d024bb6fdb1f60a8a785dd83c9a935d4   \n",
       "2                  国际谣言查证机构  ca1dd5415f6acd1fbf7c22fd1e6e3dc1   \n",
       "3  医学博士、副主任医师、中华医学会科普分会青年委员  762167361e181d478652f85ac76fe34d   \n",
       "4  医学博士、副主任医师、中华医学会科普分会青年委员  a54f4a260301565af3454048724350f5   \n",
       "\n",
       "                                              Author        date markstyle  \\\n",
       "0  {'id': 961, 'name': '新京报', 'desc': '综合类大型城市日报'...  2020-01-22      fake   \n",
       "1  {'id': 226, 'name': '谢望时', 'desc': '药理学硕士，知贝儿科...  2020-01-22      fake   \n",
       "2  {'id': 501, 'name': '反海外谣言中心', 'desc': '国际谣言查证...  2020-01-22      fake   \n",
       "3  {'id': 13, 'name': '胡远东', 'desc': '医学博士、副主任医师、...  2020-01-22      fake   \n",
       "4  {'id': 13, 'name': '胡远东', 'desc': '医学博士、副主任医师、...  2020-01-21      fake   \n",
       "\n",
       "  result explain                                           abstract  \\\n",
       "0      假      谣言  新京报记者致电北京协和医院，工作人员表示，该患者按照流程操作进行诊断和治疗，没有出逃。\\n该...   \n",
       "1      假      谣言  京天成这次通报成功研制的抗体叫“2019冠状病毒N蛋白抗体”，理论上可以识别新型冠状病毒，以...   \n",
       "2      假      谣言  口罩正确的戴法是，有颜色的那一面（通常是绿色、蓝色或者粉红色）应该朝外，白色的那一面朝内。无...   \n",
       "3      假      谣言  这个装置学名叫隔离担架，主要用途是转运传染性疾病患者或者疑似患者，避免在转运过程中发生继发性...   \n",
       "4      假     伪科学  农业上确实有在大棚中燃烧硫磺杀灭害虫细菌的做法，但没有将硫化物用于医疗环境中的做法，因为硫化...   \n",
       "\n",
       "              tag  type videourl  \\\n",
       "0  [协和医院, 新型冠状病毒]     1            \n",
       "1    [抗体, 新型冠状病毒]     1            \n",
       "2    [口罩, 新型冠状病毒]     1            \n",
       "3        [隔离, 传染]     1            \n",
       "4      [烟花爆竹, 瘟疫]     1            \n",
       "\n",
       "                                               cover  \\\n",
       "0  //jiaozhen-70111.picnjc.qpic.cn/1d25062126f0b8...   \n",
       "1  //jiaozhen-70111.picnjc.qpic.cn/f0a11b7c9a84ef...   \n",
       "2  //jiaozhen-70111.picnjc.qpic.cn/61bb516ad6174f...   \n",
       "3  //jiaozhen-70111.picnjc.qpic.cn/b0d32b60f5e90b...   \n",
       "4  //jiaozhen-70111.picnjc.qpic.cn/814be59fed9db8...   \n",
       "\n",
       "                                           coverrect  \\\n",
       "0  //jiaozhen-70111.picnjc.qpic.cn/1d25062126f0b8...   \n",
       "1  //jiaozhen-70111.picnjc.qpic.cn/f0a11b7c9a84ef...   \n",
       "2  //jiaozhen-70111.picnjc.qpic.cn/61bb516ad6174f...   \n",
       "3  //jiaozhen-70111.picnjc.qpic.cn/b0d32b60f5e90b...   \n",
       "4  //jiaozhen-70111.picnjc.qpic.cn/814be59fed9db8...   \n",
       "\n",
       "                                          coversqual section  iscolled arttype  \n",
       "0  //jiaozhen-70111.picnjc.qpic.cn/1d25062126f0b8...             False  normal  \n",
       "1  //jiaozhen-70111.picnjc.qpic.cn/f0a11b7c9a84ef...             False  normal  \n",
       "2  //jiaozhen-70111.picnjc.qpic.cn/61bb516ad6174f...             False  normal  \n",
       "3  //jiaozhen-70111.picnjc.qpic.cn/b0d32b60f5e90b...             False  normal  \n",
       "4  //jiaozhen-70111.picnjc.qpic.cn/814be59fed9db8...             False  normal  "
      ]
     },
     "execution_count": 12,
     "metadata": {},
     "output_type": "execute_result"
    }
   ],
   "source": [
    "import pandas as pd\n",
    "df = pd.DataFrame(jsons)\n",
    "df.head()"
   ]
  },
  {
   "cell_type": "code",
   "execution_count": 13,
   "metadata": {
    "ExecuteTime": {
     "end_time": "2023-10-27T07:52:11.696359Z",
     "start_time": "2023-10-27T07:52:11.256654Z"
    },
    "slideshow": {
     "slide_type": "subslide"
    }
   },
   "outputs": [],
   "source": [
    "df.to_excel('./data/vpqq2023-10-27.xlsx')"
   ]
  },
  {
   "cell_type": "code",
   "execution_count": null,
   "metadata": {},
   "outputs": [],
   "source": []
  }
 ],
 "metadata": {
  "celltoolbar": "幻灯片",
  "kernelspec": {
   "display_name": "Python 3 (ipykernel)",
   "language": "python",
   "name": "python3"
  },
  "language_info": {
   "codemirror_mode": {
    "name": "ipython",
    "version": 3
   },
   "file_extension": ".py",
   "mimetype": "text/x-python",
   "name": "python",
   "nbconvert_exporter": "python",
   "pygments_lexer": "ipython3",
   "version": "3.9.7"
  },
  "latex_envs": {
   "LaTeX_envs_menu_present": true,
   "autoclose": false,
   "autocomplete": true,
   "bibliofile": "biblio.bib",
   "cite_by": "apalike",
   "current_citInitial": 1,
   "eqLabelWithNumbers": true,
   "eqNumInitial": 1,
   "hotkeys": {
    "equation": "Ctrl-E",
    "itemize": "Ctrl-I"
   },
   "labels_anchors": false,
   "latex_user_defs": false,
   "report_style_numbering": false,
   "user_envs_cfg": false
  },
  "toc": {
   "base_numbering": 1,
   "nav_menu": {},
   "number_sections": false,
   "sideBar": true,
   "skip_h1_title": false,
   "title_cell": "Table of Contents",
   "title_sidebar": "Contents",
   "toc_cell": false,
   "toc_position": {},
   "toc_section_display": true,
   "toc_window_display": false
  }
 },
 "nbformat": 4,
 "nbformat_minor": 2
}
