{
 "cells": [
  {
   "cell_type": "markdown",
   "metadata": {
    "slideshow": {
     "slide_type": "slide"
    }
   },
   "source": [
    "# The Book of Why\n",
    "\n",
    "\n",
    "![image.png](img/causal_model_book.png)\n"
   ]
  },
  {
   "cell_type": "markdown",
   "metadata": {
    "slideshow": {
     "slide_type": "subslide"
    }
   },
   "source": [
    "<img src=img/causal_model_mount.png align = left width= 900px>\n",
    "\n",
    "\n",
    "Scaling “Mount Intervention.” \n",
    "\n",
    "The most familiar methods to estimate the effect of an intervention, in the presence of confounders, are the back-door adjustment and instrumental variables. \n",
    "\n",
    "The method of front-door adjustment was unknown before the introduction of causal diagrams. \n",
    "\n",
    "The do-calculus makes it possible to tailor the adjustment method to any particular causal diagram. (Source: Drawing by Dakota Harr.)\n",
    "\n"
   ]
  },
  {
   "cell_type": "markdown",
   "metadata": {
    "slideshow": {
     "slide_type": "subslide"
    }
   },
   "source": [
    "## Mediator, Confounder, Collider\n",
    "\n",
    "中介、混杂、对撞\n",
    "\n",
    "- (a) In a chain junction, $A \\rightarrow B \\rightarrow C$, controlling for B prevents information about A from getting to C or vice versa.\n",
    "- (b) In a fork or confounding junction, $A \\leftarrow B \\rightarrow C$, controlling for B prevents information about A from getting to C or vice versa.\n",
    "- (c) In a collider, $A \\rightarrow B \\leftarrow C$, exactly the opposite rules hold. The variables A and C start out independent, so that information about A tells you nothing about C. \n",
    "    - But if you control for B, then information starts flowing through the “pipe,”  due to the explain-away effect.\n"
   ]
  },
  {
   "cell_type": "markdown",
   "metadata": {
    "slideshow": {
     "slide_type": "subslide"
    }
   },
   "source": [
    "(d) Controlling for descendants (or proxies) of a variable is like “partially” controlling for the variable itself. \n",
    "- Controlling for a descendant of a mediator partly closes the pipe; \n",
    "- Controlling for a descendant of a collider partly opens the pipe.\n",
    "\n",
    "\n",
    "$$\n",
    "A \\leftarrow B \\leftarrow C \\rightarrow D \\leftarrow E \\rightarrow F \\rightarrow G \\leftarrow H \\rightarrow I \\rightarrow J\n",
    "$$\n",
    "\n",
    "If a single junction is blocked, then J cannot “find out” about A through this path.\n",
    "\n",
    "\n",
    "“So we have many options to block communication between A and J: \n",
    "\n",
    "- control for B, control for C, don’t control for D (because it’s a collider), control for E, and so forth. \n",
    "- Any one of these is sufficient. \n",
    "\n",
    "**This is why the usual statistical procedure of controlling for everything that we can measure is so misguided.**\n",
    "- In fact, this particular path is blocked if we don’t control for anything! \n",
    "- The colliders at D and G block the path without any outside help. \n",
    "- Controlling for D and G would open this path and enable J to listen to A.\n",
    "\n"
   ]
  },
  {
   "cell_type": "markdown",
   "metadata": {
    "slideshow": {
     "slide_type": "subslide"
    }
   },
   "source": [
    "Finally, to deconfound two variables X and Y, we need only block every noncausal path between them without blocking any causal paths. \n",
    "\n",
    "A **back-door path** is any path from X to Y that starts with an arrow pointing into X. \n",
    "-  it allows spurious correlation between X and Y\n",
    "- X and Y will be deconfounded if we block every back-door path.\n",
    "\n",
    "If we do this by controlling for some set of variables Z, we also need to make sure that \n",
    "- no member of Z is a descendant of X on a causal path; \n",
    "    - otherwise we might partly or completely close off that path."
   ]
  },
  {
   "cell_type": "markdown",
   "metadata": {
    "slideshow": {
     "slide_type": "subslide"
    }
   },
   "source": [
    "Confounding was the primary obstacle that caused us to confuse seeing with doing. Having removed this obstacle with the tools of “path blocking” and the back-door criterion, we can now map the routes up **Mount Intervention** with systematic precision. \n",
    "\n",
    "For the novice climber, the safest routes up the mountain are \n",
    "- **the back-door adjustment**\n",
    "- and its various cousins, \n",
    "    - some going under the rubric of **front-door adjustment** \n",
    "    - some under **instrumental variables**.\n",
    "\n"
   ]
  },
  {
   "cell_type": "markdown",
   "metadata": {
    "slideshow": {
     "slide_type": "slide"
    }
   },
   "source": [
    "## THE SIMPLEST ROUTE: THE BACK-DOOR ADJUSTMENT FORMULA\n",
    "\n",
    "\n",
    "### The back-door adjustment formula\n",
    "\n",
    "$$\n",
    "P(Y|do(X)) = \\sum_{u} P(Y|X, U = u)P(U = u) \n",
    "$$\n",
    "\n",
    "\n",
    "If you are confident that you have data on a sufficient set of variables (called **deconfounders**) to block all the back-door paths between the intervention and the outcome.\n",
    "\n",
    "- To do this, we measure the average causal effect of an intervention by first estimating its effect at each “level,” or stratum, of the deconfounder. \n",
    "- We then compute a weighted average of those strata, where each stratum is weighted according to its prevalence in the population. \n",
    "\n",
    "\n",
    "\n"
   ]
  },
  {
   "cell_type": "markdown",
   "metadata": {
    "slideshow": {
     "slide_type": "subslide"
    }
   },
   "source": [
    "<img src=img/causal_model_simpson2.png align = right width = 800px>\n",
    "\n",
    "For example, the deconfounder is gender, \n",
    "we first estimate the causal effect for males and females. Then we average the two, if the population is (as usual) half male and half female. If the proportions are different—say, two-thirds male and one-third female—then to estimate the average causal effect we would take a correspondingly weighted average.\n",
    "\n",
    "$$\n",
    "P(Y|do(X)) =  P(Y|X, U = female)P(U = female) + P(Y|X, U = male)P(U = male) \n",
    "$$"
   ]
  },
  {
   "cell_type": "markdown",
   "metadata": {
    "slideshow": {
     "slide_type": "slide"
    }
   },
   "source": [
    "## Front-door Adjustment\n",
    "\n",
    "<img src=img/causal_model_frontdoor.png align = right width = 800px>\n",
    "\n",
    "Suppose we are doing an observational study and have collected data on Smoking, Tar, and Cancer for each of the participants. Unfortunately, we cannot collect data on the Smoking Gene because we do not know whether such a gene exists. \n",
    "- Lacking data on the confounding variable, we cannot block the back-door path $Smoking \\leftarrow Smoking \\space Gene \\rightarrow Cancer$. \n",
    "- Thus we cannot use **back-door adjustment** to control for the effect of the confounder.\n",
    "\n",
    "\n",
    "\n",
    "http://bayes.cs.ucla.edu/WHY/errata-pages-PearlMackenzie_BookofWhy_Final.pdf"
   ]
  },
  {
   "cell_type": "markdown",
   "metadata": {
    "slideshow": {
     "slide_type": "subslide"
    }
   },
   "source": [
    "Instead of going in the back door, we can go in the front door! \n",
    "\n",
    "- In this case, the front door is the direct causal path $Smoking \\rightarrow Tar \\rightarrow Cancer$, for which we do have\n",
    "data on all three variables.\n",
    "\n",
    "First, we can estimate the average causal effect of Smoking on Tar\n",
    "- because there is no unblocked back-door path from Smoking to Tar, as the $Smoking \\leftarrow Smoking \\space Gene \\rightarrow Cancer \\leftarrow Tar$ path is already blocked by the *collider* at Cancer. \n",
    "    - Because it is blocked already, we don’t even need back-door adjustment. \n",
    "\n",
    "We can simply observe $P(tar | smoking)$ and $P(tar | no \\space smoking)$, and the difference between them will be the average causal effect of Smoking on Tar."
   ]
  },
  {
   "cell_type": "markdown",
   "metadata": {
    "slideshow": {
     "slide_type": "subslide"
    }
   },
   "source": [
    "Likewise, the diagram allows us to estimate the average causal effect of **Tar on Cancer**. \n",
    "- To do this we can block the back-door path from Tar to Cancer, $Tar \\leftarrow Smoking \\leftarrow Smoking Gene \\rightarrow  Cancer$, by adjusting for Smoking. \n",
    "\n",
    "We only need data on a sufficient set of deconfounders (i.e., Smoking). \n",
    "\n",
    "Then the back-door adjustment formula will give us $P(cancer | do(tar))$ and $P(cancer | do(no \\space tar))$. \n",
    "\n",
    "$$\n",
    "P(cancer | do(tar)) = P(cancer | tar, smoking) P(smoking) +\n",
    "$$\n",
    "$$\n",
    "P(cancer | tar, no \\space smoking)P(no \\space smoking) \n",
    "$$\n",
    "\n",
    "\n",
    "$$\n",
    "P(cancer | do(no \\space tar)) = P(cancer | no \\space tar, smoking) P(smoking) +\n",
    "$$\n",
    "$$\n",
    "P(cancer | no \\space tar, no \\space smoking)P(no \\space smoking) \n",
    "$$\n",
    "\n",
    "\n",
    "The difference between these is the average causal effect of Tar on Cancer.\n",
    "\n"
   ]
  },
  {
   "cell_type": "markdown",
   "metadata": {
    "slideshow": {
     "slide_type": "subslide"
    }
   },
   "source": [
    "We can combine $P(cancer | do (tar))$ and $P(tar|do(smoking))$ to obtain the average increase in cancer due to smoking. Cancer can come about in two ways: in the presence of Tar or in the absence of Tar. \n",
    "\n",
    "- If we force a person to smoke, \n",
    "    - then the probabilities of these two states are **P(tar | do(smoking))** and **P(no tar | do(no smoking))**, respectively. \n",
    "    - If a Tar state evolves, the likelihood of causing Cancer is **P(cancer | do(tar))**. \n",
    "    - If, on the other hand, a No-Tar state evolves, then it would result in a Cancer likelihood of **P(cancer | do(no tar))**. \n",
    "    - We can weight the two scenarios by their respective probabilities under do(smoking) and in this way compute the total probability of cancer due to smoking. \n",
    "- The same argument holds if we prevent a person from smoking, do(no smoking).\n",
    "- The difference between the two gives us the average causal effect on cancer of smoking versus not smoking."
   ]
  },
  {
   "cell_type": "markdown",
   "metadata": {
    "slideshow": {
     "slide_type": "subslide"
    }
   },
   "source": [
    "### The  front-door adjustment formula\n",
    "\n",
    "$$\n",
    "P(Y|do(X)) = \\sum_{z} P(Z = z|X) \\sum_{x} P(Y|X = x, Z = z)P(X = x)\n",
    "$$\n",
    "\n",
    "Here X stands for Smoking, Y stands for Cancer, Z stands for Tar, and U (which is conspicuously absent from the formula) stands for the unobservable variable, the Smoking Gene.\n",
    "\n",
    "$$\n",
    "P(cancer|do(smoking)) = P(tar|smoking) P(cancer|smoking, tar)P(smoking) + \n",
    "$$\n",
    "\n",
    "$$\n",
    "  P(tar|no \\space smoking) P(cancer|no \\space smoking, tar)P(no \\space smoking) + \n",
    "$$\n",
    "\n",
    "$$\n",
    "  P(no \\space tar|smoking) P(cancer|smoking, no \\space tar)P(smoking) + \n",
    "$$\n",
    "\n",
    "\n",
    "$$\n",
    "  P(no \\space tar|no \\space smoking) P(cancer|no \\space smoking,no \\space tar)P(no \\space smoking)  \n",
    "$$\n",
    "\n",
    "\n",
    "\n",
    "\n"
   ]
  },
  {
   "cell_type": "markdown",
   "metadata": {
    "slideshow": {
     "slide_type": "skip"
    }
   },
   "source": [
    "![image.png](img/causal_model_error.png)"
   ]
  },
  {
   "cell_type": "markdown",
   "metadata": {
    "slideshow": {
     "slide_type": "subslide"
    }
   },
   "source": [
    "![image.png](img/causal_model_do.png)"
   ]
  },
  {
   "cell_type": "markdown",
   "metadata": {
    "slideshow": {
     "slide_type": "subslide"
    }
   },
   "source": [
    "## Instrumental Variable\n",
    "\n",
    "![image.png](img/causal_model_iv.png)"
   ]
  },
  {
   "cell_type": "markdown",
   "metadata": {
    "slideshow": {
     "slide_type": "slide"
    }
   },
   "source": [
    "# DoWhy: Different estimation methods for causal inference\n",
    "\n",
    "https://microsoft.github.io/dowhy/example_notebooks/dowhy_estimation_methods.html#Method-1:-Regression\n",
    "\n",
    "This is a quick introduction to the DoWhy causal inference library.\n",
    "We will load in a sample dataset and use different methods for estimating the causal effect of a (pre-specified)treatment variable on a (pre-specified) outcome variable.\n",
    "\n",
    "We will see that not all estimators return the correct effect for this dataset.\n",
    "\n",
    "First, let us add the required path for Python to find the DoWhy code and load all required packages"
   ]
  },
  {
   "cell_type": "code",
   "execution_count": 3,
   "metadata": {
    "ExecuteTime": {
     "end_time": "2021-11-15T01:53:25.156106Z",
     "start_time": "2021-11-15T01:53:22.144553Z"
    },
    "slideshow": {
     "slide_type": "subslide"
    }
   },
   "outputs": [
    {
     "name": "stdout",
     "output_type": "stream",
     "text": [
      "Requirement already satisfied: dowhy in /opt/anaconda3/lib/python3.7/site-packages (0.6)\n",
      "Requirement already satisfied: statsmodels in /opt/anaconda3/lib/python3.7/site-packages (from dowhy) (0.11.0)\n",
      "Requirement already satisfied: scikit-learn in /opt/anaconda3/lib/python3.7/site-packages (from dowhy) (1.0)\n",
      "Requirement already satisfied: networkx>=2.0 in /opt/anaconda3/lib/python3.7/site-packages (from dowhy) (2.4)\n",
      "Requirement already satisfied: sympy>=1.4 in /opt/anaconda3/lib/python3.7/site-packages (from dowhy) (1.5.1)\n",
      "Requirement already satisfied: pydot>=1.4 in /opt/anaconda3/lib/python3.7/site-packages (from dowhy) (1.4.2)\n",
      "Requirement already satisfied: numpy>=1.15 in /opt/anaconda3/lib/python3.7/site-packages (from dowhy) (1.20.3)\n",
      "Requirement already satisfied: scipy in /opt/anaconda3/lib/python3.7/site-packages (from dowhy) (1.7.1)\n",
      "Requirement already satisfied: pandas>=0.24 in /opt/anaconda3/lib/python3.7/site-packages (from dowhy) (1.2.0)\n",
      "Requirement already satisfied: patsy>=0.5 in /opt/anaconda3/lib/python3.7/site-packages (from statsmodels->dowhy) (0.5.1)\n",
      "Requirement already satisfied: joblib>=0.11 in /opt/anaconda3/lib/python3.7/site-packages (from scikit-learn->dowhy) (1.0.1)\n",
      "Requirement already satisfied: threadpoolctl>=2.0.0 in /opt/anaconda3/lib/python3.7/site-packages (from scikit-learn->dowhy) (2.2.0)\n",
      "Requirement already satisfied: decorator>=4.3.0 in /opt/anaconda3/lib/python3.7/site-packages (from networkx>=2.0->dowhy) (4.4.1)\n",
      "Requirement already satisfied: mpmath>=0.19 in /opt/anaconda3/lib/python3.7/site-packages (from sympy>=1.4->dowhy) (1.1.0)\n",
      "Requirement already satisfied: pyparsing>=2.1.4 in /opt/anaconda3/lib/python3.7/site-packages (from pydot>=1.4->dowhy) (2.4.2)\n",
      "Requirement already satisfied: pytz>=2017.3 in /opt/anaconda3/lib/python3.7/site-packages (from pandas>=0.24->dowhy) (2019.3)\n",
      "Requirement already satisfied: python-dateutil>=2.7.3 in /opt/anaconda3/lib/python3.7/site-packages (from pandas>=0.24->dowhy) (2.8.1)\n",
      "Requirement already satisfied: six in /opt/anaconda3/lib/python3.7/site-packages (from patsy>=0.5->statsmodels->dowhy) (1.12.0)\n",
      "Note: you may need to restart the kernel to use updated packages.\n"
     ]
    }
   ],
   "source": [
    "pip install dowhy"
   ]
  },
  {
   "cell_type": "code",
   "execution_count": 4,
   "metadata": {
    "ExecuteTime": {
     "end_time": "2021-11-15T01:53:35.196816Z",
     "start_time": "2021-11-15T01:53:27.661961Z"
    },
    "slideshow": {
     "slide_type": "slide"
    }
   },
   "outputs": [],
   "source": [
    "import numpy as np\n",
    "import pandas as pd\n",
    "import logging\n",
    "\n",
    "import dowhy\n",
    "from dowhy import CausalModel\n",
    "import dowhy.datasets "
   ]
  },
  {
   "cell_type": "markdown",
   "metadata": {
    "slideshow": {
     "slide_type": "subslide"
    }
   },
   "source": [
    "Now, let us load a dataset. For simplicity, we simulate a dataset with linear relationships between common causes and treatment, and common causes and outcome. \n",
    "\n",
    "Beta is the true causal effect. "
   ]
  },
  {
   "cell_type": "code",
   "execution_count": 5,
   "metadata": {
    "ExecuteTime": {
     "end_time": "2021-11-15T01:54:16.745407Z",
     "start_time": "2021-11-15T01:54:16.378008Z"
    },
    "slideshow": {
     "slide_type": "subslide"
    }
   },
   "outputs": [
    {
     "data": {
      "text/html": [
       "<div>\n",
       "<style scoped>\n",
       "    .dataframe tbody tr th:only-of-type {\n",
       "        vertical-align: middle;\n",
       "    }\n",
       "\n",
       "    .dataframe tbody tr th {\n",
       "        vertical-align: top;\n",
       "    }\n",
       "\n",
       "    .dataframe thead th {\n",
       "        text-align: right;\n",
       "    }\n",
       "</style>\n",
       "<table border=\"1\" class=\"dataframe\">\n",
       "  <thead>\n",
       "    <tr style=\"text-align: right;\">\n",
       "      <th></th>\n",
       "      <th>Z0</th>\n",
       "      <th>Z1</th>\n",
       "      <th>W0</th>\n",
       "      <th>W1</th>\n",
       "      <th>W2</th>\n",
       "      <th>W3</th>\n",
       "      <th>W4</th>\n",
       "      <th>v0</th>\n",
       "      <th>y</th>\n",
       "    </tr>\n",
       "  </thead>\n",
       "  <tbody>\n",
       "    <tr>\n",
       "      <th>0</th>\n",
       "      <td>1.0</td>\n",
       "      <td>0.194996</td>\n",
       "      <td>-0.394947</td>\n",
       "      <td>0.961946</td>\n",
       "      <td>1.432671</td>\n",
       "      <td>-0.406206</td>\n",
       "      <td>-2.281008</td>\n",
       "      <td>True</td>\n",
       "      <td>11.674804</td>\n",
       "    </tr>\n",
       "    <tr>\n",
       "      <th>1</th>\n",
       "      <td>1.0</td>\n",
       "      <td>0.453135</td>\n",
       "      <td>0.948574</td>\n",
       "      <td>0.127242</td>\n",
       "      <td>-0.459667</td>\n",
       "      <td>-0.783661</td>\n",
       "      <td>-1.323860</td>\n",
       "      <td>True</td>\n",
       "      <td>10.368462</td>\n",
       "    </tr>\n",
       "    <tr>\n",
       "      <th>2</th>\n",
       "      <td>0.0</td>\n",
       "      <td>0.064484</td>\n",
       "      <td>-0.465573</td>\n",
       "      <td>0.000664</td>\n",
       "      <td>2.157783</td>\n",
       "      <td>1.473797</td>\n",
       "      <td>-0.569321</td>\n",
       "      <td>True</td>\n",
       "      <td>14.705052</td>\n",
       "    </tr>\n",
       "    <tr>\n",
       "      <th>3</th>\n",
       "      <td>1.0</td>\n",
       "      <td>0.209498</td>\n",
       "      <td>-0.037355</td>\n",
       "      <td>0.318007</td>\n",
       "      <td>1.309104</td>\n",
       "      <td>3.409648</td>\n",
       "      <td>-0.872711</td>\n",
       "      <td>True</td>\n",
       "      <td>22.275790</td>\n",
       "    </tr>\n",
       "    <tr>\n",
       "      <th>4</th>\n",
       "      <td>0.0</td>\n",
       "      <td>0.158966</td>\n",
       "      <td>-1.778694</td>\n",
       "      <td>0.704463</td>\n",
       "      <td>1.209800</td>\n",
       "      <td>1.698519</td>\n",
       "      <td>-1.026852</td>\n",
       "      <td>True</td>\n",
       "      <td>12.349162</td>\n",
       "    </tr>\n",
       "    <tr>\n",
       "      <th>...</th>\n",
       "      <td>...</td>\n",
       "      <td>...</td>\n",
       "      <td>...</td>\n",
       "      <td>...</td>\n",
       "      <td>...</td>\n",
       "      <td>...</td>\n",
       "      <td>...</td>\n",
       "      <td>...</td>\n",
       "      <td>...</td>\n",
       "    </tr>\n",
       "    <tr>\n",
       "      <th>9995</th>\n",
       "      <td>1.0</td>\n",
       "      <td>0.636827</td>\n",
       "      <td>-0.598696</td>\n",
       "      <td>-1.276830</td>\n",
       "      <td>0.848903</td>\n",
       "      <td>-0.082480</td>\n",
       "      <td>-0.016497</td>\n",
       "      <td>True</td>\n",
       "      <td>3.033101</td>\n",
       "    </tr>\n",
       "    <tr>\n",
       "      <th>9996</th>\n",
       "      <td>1.0</td>\n",
       "      <td>0.363879</td>\n",
       "      <td>-1.548138</td>\n",
       "      <td>1.464543</td>\n",
       "      <td>1.212518</td>\n",
       "      <td>1.530621</td>\n",
       "      <td>0.537116</td>\n",
       "      <td>True</td>\n",
       "      <td>16.851499</td>\n",
       "    </tr>\n",
       "    <tr>\n",
       "      <th>9997</th>\n",
       "      <td>1.0</td>\n",
       "      <td>0.975743</td>\n",
       "      <td>-1.607864</td>\n",
       "      <td>1.028439</td>\n",
       "      <td>0.618197</td>\n",
       "      <td>1.637596</td>\n",
       "      <td>-1.909433</td>\n",
       "      <td>True</td>\n",
       "      <td>13.024963</td>\n",
       "    </tr>\n",
       "    <tr>\n",
       "      <th>9998</th>\n",
       "      <td>0.0</td>\n",
       "      <td>0.608969</td>\n",
       "      <td>-1.051702</td>\n",
       "      <td>0.986304</td>\n",
       "      <td>0.322642</td>\n",
       "      <td>0.173046</td>\n",
       "      <td>-0.836873</td>\n",
       "      <td>True</td>\n",
       "      <td>10.792296</td>\n",
       "    </tr>\n",
       "    <tr>\n",
       "      <th>9999</th>\n",
       "      <td>1.0</td>\n",
       "      <td>0.149173</td>\n",
       "      <td>-0.474803</td>\n",
       "      <td>0.412599</td>\n",
       "      <td>0.670757</td>\n",
       "      <td>1.116724</td>\n",
       "      <td>-0.662707</td>\n",
       "      <td>True</td>\n",
       "      <td>13.718791</td>\n",
       "    </tr>\n",
       "  </tbody>\n",
       "</table>\n",
       "<p>10000 rows × 9 columns</p>\n",
       "</div>"
      ],
      "text/plain": [
       "       Z0        Z1        W0        W1        W2        W3        W4    v0  \\\n",
       "0     1.0  0.194996 -0.394947  0.961946  1.432671 -0.406206 -2.281008  True   \n",
       "1     1.0  0.453135  0.948574  0.127242 -0.459667 -0.783661 -1.323860  True   \n",
       "2     0.0  0.064484 -0.465573  0.000664  2.157783  1.473797 -0.569321  True   \n",
       "3     1.0  0.209498 -0.037355  0.318007  1.309104  3.409648 -0.872711  True   \n",
       "4     0.0  0.158966 -1.778694  0.704463  1.209800  1.698519 -1.026852  True   \n",
       "...   ...       ...       ...       ...       ...       ...       ...   ...   \n",
       "9995  1.0  0.636827 -0.598696 -1.276830  0.848903 -0.082480 -0.016497  True   \n",
       "9996  1.0  0.363879 -1.548138  1.464543  1.212518  1.530621  0.537116  True   \n",
       "9997  1.0  0.975743 -1.607864  1.028439  0.618197  1.637596 -1.909433  True   \n",
       "9998  0.0  0.608969 -1.051702  0.986304  0.322642  0.173046 -0.836873  True   \n",
       "9999  1.0  0.149173 -0.474803  0.412599  0.670757  1.116724 -0.662707  True   \n",
       "\n",
       "              y  \n",
       "0     11.674804  \n",
       "1     10.368462  \n",
       "2     14.705052  \n",
       "3     22.275790  \n",
       "4     12.349162  \n",
       "...         ...  \n",
       "9995   3.033101  \n",
       "9996  16.851499  \n",
       "9997  13.024963  \n",
       "9998  10.792296  \n",
       "9999  13.718791  \n",
       "\n",
       "[10000 rows x 9 columns]"
      ]
     },
     "execution_count": 5,
     "metadata": {},
     "output_type": "execute_result"
    }
   ],
   "source": [
    "data = dowhy.datasets.linear_dataset(beta=10,\n",
    "        num_common_causes=5, \n",
    "        num_instruments = 2,\n",
    "        num_treatments=1,\n",
    "        num_samples=10000,\n",
    "        treatment_is_binary=True,\n",
    "        outcome_is_binary=False)\n",
    "df = data[\"df\"]\n",
    "df"
   ]
  },
  {
   "cell_type": "code",
   "execution_count": 17,
   "metadata": {
    "ExecuteTime": {
     "end_time": "2021-11-15T09:39:47.602136Z",
     "start_time": "2021-11-15T09:39:47.597751Z"
    },
    "slideshow": {
     "slide_type": "subslide"
    }
   },
   "outputs": [
    {
     "data": {
      "text/plain": [
       "Index(['Z0', 'Z1', 'W0', 'W1', 'W2', 'W3', 'W4', 'v0', 'y', 'propensity_score',\n",
       "       'strata', 'dbar', 'd_y', 'dbar_y', 'ps', 'ips_weight', 'tips_weight',\n",
       "       'cips_weight', 'ips_normalized_weight', 'tips_normalized_weight',\n",
       "       'cips_normalized_weight', 'ips_stabilized_weight',\n",
       "       'tips_stabilized_weight', 'cips_stabilized_weight'],\n",
       "      dtype='object')"
      ]
     },
     "execution_count": 17,
     "metadata": {},
     "output_type": "execute_result"
    }
   ],
   "source": [
    "df.columns"
   ]
  },
  {
   "cell_type": "markdown",
   "metadata": {
    "slideshow": {
     "slide_type": "fragment"
    }
   },
   "source": [
    "Note that we are using a pandas dataframe to load the data."
   ]
  },
  {
   "cell_type": "markdown",
   "metadata": {
    "slideshow": {
     "slide_type": "slide"
    }
   },
   "source": [
    "## Simple Multiple Regression"
   ]
  },
  {
   "cell_type": "code",
   "execution_count": 18,
   "metadata": {
    "ExecuteTime": {
     "end_time": "2021-11-15T09:58:35.350231Z",
     "start_time": "2021-11-15T09:58:35.347542Z"
    },
    "slideshow": {
     "slide_type": "subslide"
    }
   },
   "outputs": [],
   "source": [
    "import statsmodels.api as sm\n",
    "import statsmodels.formula.api as smf "
   ]
  },
  {
   "cell_type": "code",
   "execution_count": 21,
   "metadata": {
    "ExecuteTime": {
     "end_time": "2021-11-15T09:59:58.732674Z",
     "start_time": "2021-11-15T09:59:58.686563Z"
    },
    "slideshow": {
     "slide_type": "subslide"
    }
   },
   "outputs": [
    {
     "data": {
      "text/html": [
       "<table class=\"simpletable\">\n",
       "<caption>OLS Regression Results</caption>\n",
       "<tr>\n",
       "  <th>Dep. Variable:</th>            <td>y</td>        <th>  R-squared:         </th>  <td>   1.000</td> \n",
       "</tr>\n",
       "<tr>\n",
       "  <th>Model:</th>                   <td>OLS</td>       <th>  Adj. R-squared:    </th>  <td>   1.000</td> \n",
       "</tr>\n",
       "<tr>\n",
       "  <th>Method:</th>             <td>Least Squares</td>  <th>  F-statistic:       </th>  <td>9.173e+08</td>\n",
       "</tr>\n",
       "<tr>\n",
       "  <th>Date:</th>             <td>Mon, 15 Nov 2021</td> <th>  Prob (F-statistic):</th>   <td>  0.00</td>  \n",
       "</tr>\n",
       "<tr>\n",
       "  <th>Time:</th>                 <td>17:59:58</td>     <th>  Log-Likelihood:    </th>  <td>  31888.</td> \n",
       "</tr>\n",
       "<tr>\n",
       "  <th>No. Observations:</th>      <td> 10000</td>      <th>  AIC:               </th> <td>-6.376e+04</td>\n",
       "</tr>\n",
       "<tr>\n",
       "  <th>Df Residuals:</th>          <td>  9991</td>      <th>  BIC:               </th> <td>-6.369e+04</td>\n",
       "</tr>\n",
       "<tr>\n",
       "  <th>Df Model:</th>              <td>     8</td>      <th>                     </th>      <td> </td>    \n",
       "</tr>\n",
       "<tr>\n",
       "  <th>Covariance Type:</th>      <td>nonrobust</td>    <th>                     </th>      <td> </td>    \n",
       "</tr>\n",
       "</table>\n",
       "<table class=\"simpletable\">\n",
       "<tr>\n",
       "       <td></td>         <th>coef</th>     <th>std err</th>      <th>t</th>      <th>P>|t|</th>  <th>[0.025</th>    <th>0.975]</th>  \n",
       "</tr>\n",
       "<tr>\n",
       "  <th>Intercept</th>  <td>   -0.0002</td> <td>    0.000</td> <td>   -0.457</td> <td> 0.647</td> <td>   -0.001</td> <td>    0.001</td>\n",
       "</tr>\n",
       "<tr>\n",
       "  <th>v0[T.True]</th> <td>    9.9999</td> <td>    0.000</td> <td> 2.72e+04</td> <td> 0.000</td> <td>    9.999</td> <td>   10.001</td>\n",
       "</tr>\n",
       "<tr>\n",
       "  <th>Z0</th>         <td>    0.0004</td> <td>    0.000</td> <td>    1.809</td> <td> 0.070</td> <td>-3.24e-05</td> <td>    0.001</td>\n",
       "</tr>\n",
       "<tr>\n",
       "  <th>Z1</th>         <td>    0.0004</td> <td>    0.000</td> <td>    1.104</td> <td> 0.270</td> <td>   -0.000</td> <td>    0.001</td>\n",
       "</tr>\n",
       "<tr>\n",
       "  <th>W0</th>         <td>    3.6089</td> <td> 9.95e-05</td> <td> 3.63e+04</td> <td> 0.000</td> <td>    3.609</td> <td>    3.609</td>\n",
       "</tr>\n",
       "<tr>\n",
       "  <th>W1</th>         <td>    4.2723</td> <td>    0.000</td> <td> 4.07e+04</td> <td> 0.000</td> <td>    4.272</td> <td>    4.273</td>\n",
       "</tr>\n",
       "<tr>\n",
       "  <th>W2</th>         <td>    1.0764</td> <td>    0.000</td> <td> 1.02e+04</td> <td> 0.000</td> <td>    1.076</td> <td>    1.077</td>\n",
       "</tr>\n",
       "<tr>\n",
       "  <th>W3</th>         <td>    2.9752</td> <td>    0.000</td> <td> 2.84e+04</td> <td> 0.000</td> <td>    2.975</td> <td>    2.975</td>\n",
       "</tr>\n",
       "<tr>\n",
       "  <th>W4</th>         <td>    0.5833</td> <td>    0.000</td> <td> 5581.928</td> <td> 0.000</td> <td>    0.583</td> <td>    0.584</td>\n",
       "</tr>\n",
       "</table>\n",
       "<table class=\"simpletable\">\n",
       "<tr>\n",
       "  <th>Omnibus:</th>       <td> 0.593</td> <th>  Durbin-Watson:     </th> <td>   2.016</td>\n",
       "</tr>\n",
       "<tr>\n",
       "  <th>Prob(Omnibus):</th> <td> 0.744</td> <th>  Jarque-Bera (JB):  </th> <td>   0.606</td>\n",
       "</tr>\n",
       "<tr>\n",
       "  <th>Skew:</th>          <td>-0.018</td> <th>  Prob(JB):          </th> <td>   0.739</td>\n",
       "</tr>\n",
       "<tr>\n",
       "  <th>Kurtosis:</th>      <td> 2.989</td> <th>  Cond. No.          </th> <td>    10.5</td>\n",
       "</tr>\n",
       "</table><br/><br/>Warnings:<br/>[1] Standard Errors assume that the covariance matrix of the errors is correctly specified."
      ],
      "text/plain": [
       "<class 'statsmodels.iolib.summary.Summary'>\n",
       "\"\"\"\n",
       "                            OLS Regression Results                            \n",
       "==============================================================================\n",
       "Dep. Variable:                      y   R-squared:                       1.000\n",
       "Model:                            OLS   Adj. R-squared:                  1.000\n",
       "Method:                 Least Squares   F-statistic:                 9.173e+08\n",
       "Date:                Mon, 15 Nov 2021   Prob (F-statistic):               0.00\n",
       "Time:                        17:59:58   Log-Likelihood:                 31888.\n",
       "No. Observations:               10000   AIC:                        -6.376e+04\n",
       "Df Residuals:                    9991   BIC:                        -6.369e+04\n",
       "Df Model:                           8                                         \n",
       "Covariance Type:            nonrobust                                         \n",
       "==============================================================================\n",
       "                 coef    std err          t      P>|t|      [0.025      0.975]\n",
       "------------------------------------------------------------------------------\n",
       "Intercept     -0.0002      0.000     -0.457      0.647      -0.001       0.001\n",
       "v0[T.True]     9.9999      0.000   2.72e+04      0.000       9.999      10.001\n",
       "Z0             0.0004      0.000      1.809      0.070   -3.24e-05       0.001\n",
       "Z1             0.0004      0.000      1.104      0.270      -0.000       0.001\n",
       "W0             3.6089   9.95e-05   3.63e+04      0.000       3.609       3.609\n",
       "W1             4.2723      0.000   4.07e+04      0.000       4.272       4.273\n",
       "W2             1.0764      0.000   1.02e+04      0.000       1.076       1.077\n",
       "W3             2.9752      0.000   2.84e+04      0.000       2.975       2.975\n",
       "W4             0.5833      0.000   5581.928      0.000       0.583       0.584\n",
       "==============================================================================\n",
       "Omnibus:                        0.593   Durbin-Watson:                   2.016\n",
       "Prob(Omnibus):                  0.744   Jarque-Bera (JB):                0.606\n",
       "Skew:                          -0.018   Prob(JB):                        0.739\n",
       "Kurtosis:                       2.989   Cond. No.                         10.5\n",
       "==============================================================================\n",
       "\n",
       "Warnings:\n",
       "[1] Standard Errors assume that the covariance matrix of the errors is correctly specified.\n",
       "\"\"\""
      ]
     },
     "execution_count": 21,
     "metadata": {},
     "output_type": "execute_result"
    }
   ],
   "source": [
    "results = smf.ols('y ~ v0+ Z0 + Z1 + W0+W1 + W2 + W3+W4', data=df).fit()\n",
    "\n",
    "results.summary()"
   ]
  },
  {
   "cell_type": "markdown",
   "metadata": {
    "slideshow": {
     "slide_type": "slide"
    }
   },
   "source": [
    "## Identifying the causal estimand"
   ]
  },
  {
   "cell_type": "markdown",
   "metadata": {
    "slideshow": {
     "slide_type": "fragment"
    }
   },
   "source": [
    "We now input a causal graph in the DOT graph format."
   ]
  },
  {
   "cell_type": "code",
   "execution_count": 6,
   "metadata": {
    "ExecuteTime": {
     "end_time": "2021-11-15T01:54:28.310660Z",
     "start_time": "2021-11-15T01:54:28.304315Z"
    },
    "slideshow": {
     "slide_type": "fragment"
    }
   },
   "outputs": [],
   "source": [
    "# With graph\n",
    "model=CausalModel(\n",
    "        data = df,\n",
    "        treatment=data[\"treatment_name\"],\n",
    "        outcome=data[\"outcome_name\"],\n",
    "        graph=data[\"gml_graph\"],\n",
    "        instruments=data[\"instrument_names\"]\n",
    "        )"
   ]
  },
  {
   "cell_type": "code",
   "execution_count": 7,
   "metadata": {
    "ExecuteTime": {
     "end_time": "2021-11-15T01:54:29.819465Z",
     "start_time": "2021-11-15T01:54:29.519760Z"
    },
    "slideshow": {
     "slide_type": "subslide"
    }
   },
   "outputs": [
    {
     "data": {
      "image/png": "[encoded data removed]",
      "text/plain": [
       "<Figure size 432x288 with 1 Axes>"
      ]
     },
     "metadata": {},
     "output_type": "display_data"
    }
   ],
   "source": [
    "model.view_model()"
   ]
  },
  {
   "cell_type": "code",
   "execution_count": 9,
   "metadata": {
    "ExecuteTime": {
     "end_time": "2021-11-15T01:55:39.510304Z",
     "start_time": "2021-11-15T01:55:39.503911Z"
    },
    "slideshow": {
     "slide_type": "subslide"
    }
   },
   "outputs": [
    {
     "data": {
      "image/png": "[encoded data removed]",
      "text/plain": [
       "<IPython.core.display.Image object>"
      ]
     },
     "metadata": {},
     "output_type": "display_data"
    }
   ],
   "source": [
    "from IPython.display import Image, display\n",
    "display(Image(filename=\"img/causal_model.png\"))"
   ]
  },
  {
   "cell_type": "markdown",
   "metadata": {
    "slideshow": {
     "slide_type": "slide"
    }
   },
   "source": [
    "We get a causal graph. Now identification and estimation is done. "
   ]
  },
  {
   "cell_type": "code",
   "execution_count": 10,
   "metadata": {
    "ExecuteTime": {
     "end_time": "2021-11-15T01:57:52.398621Z",
     "start_time": "2021-11-15T01:57:52.388357Z"
    },
    "slideshow": {
     "slide_type": "subslide"
    }
   },
   "outputs": [
    {
     "name": "stdout",
     "output_type": "stream",
     "text": [
      "Estimand type: nonparametric-ate\n",
      "\n",
      "### Estimand : 1\n",
      "Estimand name: backdoor\n",
      "Estimand expression:\n",
      "  d                                 \n",
      "─────(Expectation(y|W4,W2,W1,W0,W3))\n",
      "d[v₀]                               \n",
      "Estimand assumption 1, Unconfoundedness: If U→{v0} and U→y then P(y|v0,W4,W2,W1,W0,W3,U) = P(y|v0,W4,W2,W1,W0,W3)\n",
      "\n",
      "### Estimand : 2\n",
      "Estimand name: iv\n",
      "Estimand expression:\n",
      "Expectation(Derivative(y, [Z1, Z0])*Derivative([v0], [Z1, Z0])**(-1))\n",
      "Estimand assumption 1, As-if-random: If U→→y then ¬(U →→{Z1,Z0})\n",
      "Estimand assumption 2, Exclusion: If we remove {Z1,Z0}→{v0}, then ¬({Z1,Z0}→y)\n",
      "\n",
      "### Estimand : 3\n",
      "Estimand name: frontdoor\n",
      "No such variable found!\n",
      "\n"
     ]
    }
   ],
   "source": [
    "identified_estimand = model.identify_effect(proceed_when_unidentifiable=True)\n",
    "print(identified_estimand)"
   ]
  },
  {
   "cell_type": "markdown",
   "metadata": {
    "slideshow": {
     "slide_type": "slide"
    }
   },
   "source": [
    "## Method 1: Regression\n",
    "\n",
    "Use linear regression."
   ]
  },
  {
   "cell_type": "code",
   "execution_count": 11,
   "metadata": {
    "ExecuteTime": {
     "end_time": "2021-11-15T01:58:23.280334Z",
     "start_time": "2021-11-15T01:58:22.602024Z"
    },
    "slideshow": {
     "slide_type": "subslide"
    }
   },
   "outputs": [
    {
     "name": "stdout",
     "output_type": "stream",
     "text": [
      "*** Causal Estimate ***\n",
      "\n",
      "## Identified estimand\n",
      "Estimand type: nonparametric-ate\n",
      "\n",
      "### Estimand : 1\n",
      "Estimand name: backdoor\n",
      "Estimand expression:\n",
      "  d                                 \n",
      "─────(Expectation(y|W4,W2,W1,W0,W3))\n",
      "d[v₀]                               \n",
      "Estimand assumption 1, Unconfoundedness: If U→{v0} and U→y then P(y|v0,W4,W2,W1,W0,W3,U) = P(y|v0,W4,W2,W1,W0,W3)\n",
      "\n",
      "## Realized estimand\n",
      "b: y~v0+W4+W2+W1+W0+W3\n",
      "Target units: ate\n",
      "\n",
      "## Estimate\n",
      "Mean value: 10.000215167302395\n",
      "p-value: [0.]\n",
      "\n",
      "Causal Estimate is 10.000215167302395\n"
     ]
    }
   ],
   "source": [
    "causal_estimate_reg = model.estimate_effect(identified_estimand,\n",
    "        method_name=\"backdoor.linear_regression\",\n",
    "        test_significance=True)\n",
    "print(causal_estimate_reg)\n",
    "print(\"Causal Estimate is \" + str(causal_estimate_reg.value))"
   ]
  },
  {
   "cell_type": "markdown",
   "metadata": {
    "slideshow": {
     "slide_type": "slide"
    }
   },
   "source": [
    "## Method 2: Stratification\n",
    "\n",
    "We will be using propensity scores to stratify units in the data."
   ]
  },
  {
   "cell_type": "code",
   "execution_count": 12,
   "metadata": {
    "ExecuteTime": {
     "end_time": "2021-11-15T01:58:54.439569Z",
     "start_time": "2021-11-15T01:58:54.296468Z"
    },
    "slideshow": {
     "slide_type": "subslide"
    }
   },
   "outputs": [
    {
     "name": "stdout",
     "output_type": "stream",
     "text": [
      "*** Causal Estimate ***\n",
      "\n",
      "## Identified estimand\n",
      "Estimand type: nonparametric-ate\n",
      "\n",
      "### Estimand : 1\n",
      "Estimand name: backdoor\n",
      "Estimand expression:\n",
      "  d                                 \n",
      "─────(Expectation(y|W4,W2,W1,W0,W3))\n",
      "d[v₀]                               \n",
      "Estimand assumption 1, Unconfoundedness: If U→{v0} and U→y then P(y|v0,W4,W2,W1,W0,W3,U) = P(y|v0,W4,W2,W1,W0,W3)\n",
      "\n",
      "## Realized estimand\n",
      "b: y~v0+W4+W2+W1+W0+W3\n",
      "Target units: att\n",
      "\n",
      "## Estimate\n",
      "Mean value: 10.11255355637429\n",
      "\n",
      "Causal Estimate is 10.11255355637429\n"
     ]
    },
    {
     "name": "stderr",
     "output_type": "stream",
     "text": [
      "/opt/anaconda3/lib/python3.7/site-packages/sklearn/utils/validation.py:985: DataConversionWarning: A column-vector y was passed when a 1d array was expected. Please change the shape of y to (n_samples, ), for example using ravel().\n",
      "  y = column_or_1d(y, warn=True)\n",
      "/opt/anaconda3/lib/python3.7/site-packages/dowhy/causal_estimators/propensity_score_stratification_estimator.py:61: FutureWarning: Index.ravel returning ndarray is deprecated; in a future version this will return a view on self.\n",
      "  weighted_outcomes.columns = [\"_\".join(x) for x in weighted_outcomes.columns.ravel()]\n"
     ]
    }
   ],
   "source": [
    "causal_estimate_strat = model.estimate_effect(identified_estimand,\n",
    "                                              method_name=\"backdoor.propensity_score_stratification\",\n",
    "                                              target_units=\"att\")\n",
    "print(causal_estimate_strat)\n",
    "print(\"Causal Estimate is \" + str(causal_estimate_strat.value))"
   ]
  },
  {
   "cell_type": "markdown",
   "metadata": {
    "slideshow": {
     "slide_type": "slide"
    }
   },
   "source": [
    "## Method 3: Matching\n",
    "\n",
    "We will be using propensity scores to match units in the data."
   ]
  },
  {
   "cell_type": "code",
   "execution_count": 13,
   "metadata": {
    "ExecuteTime": {
     "end_time": "2021-11-15T01:59:21.142067Z",
     "start_time": "2021-11-15T01:59:16.608337Z"
    },
    "slideshow": {
     "slide_type": "subslide"
    }
   },
   "outputs": [
    {
     "name": "stderr",
     "output_type": "stream",
     "text": [
      "/opt/anaconda3/lib/python3.7/site-packages/sklearn/utils/validation.py:985: DataConversionWarning: A column-vector y was passed when a 1d array was expected. Please change the shape of y to (n_samples, ), for example using ravel().\n",
      "  y = column_or_1d(y, warn=True)\n"
     ]
    },
    {
     "name": "stdout",
     "output_type": "stream",
     "text": [
      "*** Causal Estimate ***\n",
      "\n",
      "## Identified estimand\n",
      "Estimand type: nonparametric-ate\n",
      "\n",
      "### Estimand : 1\n",
      "Estimand name: backdoor\n",
      "Estimand expression:\n",
      "  d                                 \n",
      "─────(Expectation(y|W4,W2,W1,W0,W3))\n",
      "d[v₀]                               \n",
      "Estimand assumption 1, Unconfoundedness: If U→{v0} and U→y then P(y|v0,W4,W2,W1,W0,W3,U) = P(y|v0,W4,W2,W1,W0,W3)\n",
      "\n",
      "## Realized estimand\n",
      "b: y~v0+W4+W2+W1+W0+W3\n",
      "Target units: atc\n",
      "\n",
      "## Estimate\n",
      "Mean value: 10.252860488929832\n",
      "\n",
      "Causal Estimate is 10.252860488929832\n"
     ]
    }
   ],
   "source": [
    "causal_estimate_match = model.estimate_effect(identified_estimand,\n",
    "                                              method_name=\"backdoor.propensity_score_matching\",\n",
    "                                              target_units=\"atc\")\n",
    "print(causal_estimate_match)\n",
    "print(\"Causal Estimate is \" + str(causal_estimate_match.value))"
   ]
  },
  {
   "cell_type": "markdown",
   "metadata": {
    "slideshow": {
     "slide_type": "slide"
    }
   },
   "source": [
    "## Method 4: Weighting\n",
    "\n",
    "We will be using (inverse) propensity scores to assign weights to units in the data. DoWhy supports a few different weighting schemes:\n",
    "1. Vanilla Inverse Propensity Score weighting (IPS) (weighting_scheme=\"ips_weight\")\n",
    "2. Self-normalized IPS weighting (also known as the Hajek estimator) (weighting_scheme=\"ips_normalized_weight\")\n",
    "3. Stabilized IPS weighting (weighting_scheme = \"ips_stabilized_weight\")"
   ]
  },
  {
   "cell_type": "code",
   "execution_count": 14,
   "metadata": {
    "ExecuteTime": {
     "end_time": "2021-11-15T02:00:09.560275Z",
     "start_time": "2021-11-15T02:00:09.500260Z"
    },
    "slideshow": {
     "slide_type": "subslide"
    }
   },
   "outputs": [
    {
     "name": "stdout",
     "output_type": "stream",
     "text": [
      "*** Causal Estimate ***\n",
      "\n",
      "## Identified estimand\n",
      "Estimand type: nonparametric-ate\n",
      "\n",
      "### Estimand : 1\n",
      "Estimand name: backdoor\n",
      "Estimand expression:\n",
      "  d                                 \n",
      "─────(Expectation(y|W4,W2,W1,W0,W3))\n",
      "d[v₀]                               \n",
      "Estimand assumption 1, Unconfoundedness: If U→{v0} and U→y then P(y|v0,W4,W2,W1,W0,W3,U) = P(y|v0,W4,W2,W1,W0,W3)\n",
      "\n",
      "## Realized estimand\n",
      "b: y~v0+W4+W2+W1+W0+W3\n",
      "Target units: ate\n",
      "\n",
      "## Estimate\n",
      "Mean value: 12.331475267230175\n",
      "\n",
      "Causal Estimate is 12.331475267230175\n"
     ]
    },
    {
     "name": "stderr",
     "output_type": "stream",
     "text": [
      "/opt/anaconda3/lib/python3.7/site-packages/sklearn/utils/validation.py:985: DataConversionWarning: A column-vector y was passed when a 1d array was expected. Please change the shape of y to (n_samples, ), for example using ravel().\n",
      "  y = column_or_1d(y, warn=True)\n"
     ]
    }
   ],
   "source": [
    "causal_estimate_ipw = model.estimate_effect(identified_estimand,\n",
    "                                            method_name=\"backdoor.propensity_score_weighting\",\n",
    "                                            target_units = \"ate\",\n",
    "                                            method_params={\"weighting_scheme\":\"ips_weight\"})\n",
    "print(causal_estimate_ipw)\n",
    "print(\"Causal Estimate is \" + str(causal_estimate_ipw.value))"
   ]
  },
  {
   "cell_type": "markdown",
   "metadata": {
    "slideshow": {
     "slide_type": "slide"
    }
   },
   "source": [
    "## Method 5: Instrumental Variable\n",
    "\n",
    "We will be using the Wald estimator for the provided instrumental variable."
   ]
  },
  {
   "cell_type": "code",
   "execution_count": 15,
   "metadata": {
    "ExecuteTime": {
     "end_time": "2021-11-15T02:00:46.140906Z",
     "start_time": "2021-11-15T02:00:46.125392Z"
    },
    "scrolled": true,
    "slideshow": {
     "slide_type": "subslide"
    }
   },
   "outputs": [
    {
     "name": "stdout",
     "output_type": "stream",
     "text": [
      "*** Causal Estimate ***\n",
      "\n",
      "## Identified estimand\n",
      "Estimand type: nonparametric-ate\n",
      "\n",
      "### Estimand : 1\n",
      "Estimand name: iv\n",
      "Estimand expression:\n",
      "Expectation(Derivative(y, [Z1, Z0])*Derivative([v0], [Z1, Z0])**(-1))\n",
      "Estimand assumption 1, As-if-random: If U→→y then ¬(U →→{Z1,Z0})\n",
      "Estimand assumption 2, Exclusion: If we remove {Z1,Z0}→{v0}, then ¬({Z1,Z0}→y)\n",
      "\n",
      "## Realized estimand\n",
      "Realized estimand: Wald Estimator\n",
      "Realized estimand type: nonparametric-ate\n",
      "Estimand expression:\n",
      "                                                              -1\n",
      "Expectation(Derivative(y, Z0))⋅Expectation(Derivative(v0, Z0))  \n",
      "Estimand assumption 1, As-if-random: If U→→y then ¬(U →→{Z1,Z0})\n",
      "Estimand assumption 2, Exclusion: If we remove {Z1,Z0}→{v0}, then ¬({Z1,Z0}→y)\n",
      "Estimand assumption 3, treatment_effect_homogeneity: Each unit's treatment ['v0'] is affected in the same way by common causes of ['v0'] and y\n",
      "Estimand assumption 4, outcome_effect_homogeneity: Each unit's outcome y is affected in the same way by common causes of ['v0'] and y\n",
      "\n",
      "Target units: ate\n",
      "\n",
      "## Estimate\n",
      "Mean value: 10.441284974569662\n",
      "\n",
      "Causal Estimate is 10.441284974569662\n"
     ]
    }
   ],
   "source": [
    "causal_estimate_iv = model.estimate_effect(identified_estimand,\n",
    "        method_name=\"iv.instrumental_variable\", method_params = {'iv_instrument_name': 'Z0'})\n",
    "print(causal_estimate_iv)\n",
    "print(\"Causal Estimate is \" + str(causal_estimate_iv.value))"
   ]
  },
  {
   "cell_type": "markdown",
   "metadata": {
    "slideshow": {
     "slide_type": "slide"
    }
   },
   "source": [
    "## Method 6: Regression Discontinuity\n",
    "\n",
    "We will be internally converting this to an equivalent instrumental variables problem."
   ]
  },
  {
   "cell_type": "code",
   "execution_count": 16,
   "metadata": {
    "ExecuteTime": {
     "end_time": "2021-11-15T02:01:08.805290Z",
     "start_time": "2021-11-15T02:01:08.788335Z"
    },
    "slideshow": {
     "slide_type": "subslide"
    }
   },
   "outputs": [
    {
     "name": "stdout",
     "output_type": "stream",
     "text": [
      "      local_rd_variable  local_treatment  local_outcome\n",
      "1              0.453135             True      10.368462\n",
      "6              0.439823            False     -10.037854\n",
      "8              0.576257             True      11.544652\n",
      "12             0.598853             True      17.126834\n",
      "20             0.436545             True      15.086424\n",
      "...                 ...              ...            ...\n",
      "9979           0.499215             True       8.946704\n",
      "9984           0.420970             True       4.681815\n",
      "9988           0.424770             True       4.736566\n",
      "9989           0.599859             True       9.418337\n",
      "9990           0.412721             True      -0.181307\n",
      "\n",
      "[2050 rows x 3 columns]\n",
      "*** Causal Estimate ***\n",
      "\n",
      "## Identified estimand\n",
      "Estimand type: nonparametric-ate\n",
      "\n",
      "### Estimand : 1\n",
      "Estimand name: iv\n",
      "Estimand expression:\n",
      "Expectation(Derivative(y, [Z1, Z0])*Derivative([v0], [Z1, Z0])**(-1))\n",
      "Estimand assumption 1, As-if-random: If U→→y then ¬(U →→{Z1,Z0})\n",
      "Estimand assumption 2, Exclusion: If we remove {Z1,Z0}→{v0}, then ¬({Z1,Z0}→y)\n",
      "\n",
      "## Realized estimand\n",
      "Realized estimand: Wald Estimator\n",
      "Realized estimand type: nonparametric-ate\n",
      "Estimand expression:\n",
      "                                                                              \n",
      "Expectation(Derivative(y, local_rd_variable))⋅Expectation(Derivative(v0, local\n",
      "\n",
      "              -1\n",
      "_rd_variable))  \n",
      "Estimand assumption 1, As-if-random: If U→→y then ¬(U →→{Z1,Z0})\n",
      "Estimand assumption 2, Exclusion: If we remove {Z1,Z0}→{v0}, then ¬({Z1,Z0}→y)\n",
      "Estimand assumption 3, treatment_effect_homogeneity: Each unit's treatment ['local_treatment'] is affected in the same way by common causes of ['local_treatment'] and local_outcome\n",
      "Estimand assumption 4, outcome_effect_homogeneity: Each unit's outcome local_outcome is affected in the same way by common causes of ['local_treatment'] and local_outcome\n",
      "\n",
      "Target units: ate\n",
      "\n",
      "## Estimate\n",
      "Mean value: 33.75929802596698\n",
      "\n",
      "Causal Estimate is 33.75929802596698\n"
     ]
    }
   ],
   "source": [
    "causal_estimate_regdist = model.estimate_effect(identified_estimand,\n",
    "        method_name=\"iv.regression_discontinuity\", \n",
    "        method_params={'rd_variable_name':'Z1',\n",
    "                       'rd_threshold_value':0.5,\n",
    "                       'rd_bandwidth': 0.1})\n",
    "print(causal_estimate_regdist)\n",
    "print(\"Causal Estimate is \" + str(causal_estimate_regdist.value))"
   ]
  },
  {
   "cell_type": "code",
   "execution_count": null,
   "metadata": {},
   "outputs": [],
   "source": []
  }
 ],
 "metadata": {
  "celltoolbar": "幻灯片",
  "kernelspec": {
   "display_name": "Python 3 (ipykernel)",
   "language": "python",
   "name": "python3"
  },
  "language_info": {
   "codemirror_mode": {
    "name": "ipython",
    "version": 3
   },
   "file_extension": ".py",
   "mimetype": "text/x-python",
   "name": "python",
   "nbconvert_exporter": "python",
   "pygments_lexer": "ipython3",
   "version": "3.9.7"
  },
  "toc": {
   "base_numbering": 1,
   "nav_menu": {},
   "number_sections": false,
   "sideBar": true,
   "skip_h1_title": true,
   "title_cell": "Table of Contents",
   "title_sidebar": "Contents",
   "toc_cell": false,
   "toc_position": {},
   "toc_section_display": true,
   "toc_window_display": false
  }
 },
 "nbformat": 4,
 "nbformat_minor": 4
}
