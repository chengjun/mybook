{
 "cells": [
  {
   "cell_type": "markdown",
   "metadata": {
    "slideshow": {
     "slide_color": "blue",
     "slide_type": "slide"
    }
   },
   "source": [
    "\n",
    "\n",
    "# 使用Jupyter制作Slides的介绍\n",
    "\n",
    "王成军 \n",
    "\n",
    "wangchengjun@nju.edu.cn\n",
    "\n",
    "计算传播网 http://computational-communication.com\n",
    "\n",
    "\n",
    "\n",
    "\n",
    "\n"
   ]
  },
  {
   "cell_type": "markdown",
   "metadata": {},
   "source": [
    "## 使用Nbviewer打开Slides\n",
    "- https://nbviewer.org/format/slides/github/chengjun/mybook/blob/main/03-who-runs-China.ipynb\n",
    "- https://nbviewer.org/format/slides/github/chengjun/mybook/blob/main/0-jupyter-notebook.ipynb\n",
    "- https://nbviewer.org/format/slides/github/chengjun/mybook/blob/main/0-matplotlib-chinese.ipynb\n",
    "- https://nbviewer.org/format/slides/github/chengjun/mybook/blob/main/0-slides.ipynb\n",
    "- https://nbviewer.org/format/slides/github/chengjun/mybook/blob/main/0-turicreate.ipynb\n",
    "- https://nbviewer.org/format/slides/github/chengjun/mybook/blob/main/01-intro2cjc.ipynb\n",
    "- https://nbviewer.org/format/slides/github/chengjun/mybook/blob/main/02-bigdata.ipynb\n",
    "- https://nbviewer.org/format/slides/github/chengjun/mybook/blob/main/03-python-intro.ipynb\n",
    "- https://nbviewer.org/format/slides/github/chengjun/mybook/blob/main/03-UK-MPS-Scandal.ipynb\n",
    "- https://nbviewer.org/format/slides/github/chengjun/mybook/blob/main/03-umbrella-of-love.ipynb\n",
    "- https://nbviewer.org/format/slides/github/chengjun/mybook/blob/main/04-crawler-13chambers.ipynb\n",
    "- https://nbviewer.org/format/slides/github/chengjun/mybook/blob/main/04-crawler-beautifulsoup.ipynb\n",
    "- https://nbviewer.org/format/slides/github/chengjun/mybook/blob/main/04-crawler-cppcc.ipynb\n",
    "- https://nbviewer.org/format/slides/github/chengjun/mybook/blob/main/04-crawler-douban.ipynb\n",
    "- https://nbviewer.org/format/slides/github/chengjun/mybook/blob/main/04-crawler-fact-checking.ipynb\n",
    "- https://nbviewer.org/format/slides/github/chengjun/mybook/blob/main/04-crawler-gov-report.ipynb\n",
    "- https://nbviewer.org/format/slides/github/chengjun/mybook/blob/main/04-crawler-netease-music.ipynb\n",
    "- https://nbviewer.org/format/slides/github/chengjun/mybook/blob/main/04-crawler-pyppeteer.ipynb\n",
    "- https://nbviewer.org/format/slides/github/chengjun/mybook/blob/main/04-crawler-selenium-music-history.ipynb\n",
    "- https://nbviewer.org/format/slides/github/chengjun/mybook/blob/main/04-crawler-selenium-people-com-search.ipynb\n",
    "- https://nbviewer.org/format/slides/github/chengjun/mybook/blob/main/04-crawler-selenium.ipynb\n",
    "- https://nbviewer.org/format/slides/github/chengjun/mybook/blob/main/04-crawler-tripadvisor.ipynb\n",
    "- https://nbviewer.org/format/slides/github/chengjun/mybook/blob/main/04-crawler-wechat.ipynb\n",
    "- https://nbviewer.org/format/slides/github/chengjun/mybook/blob/main/04-crawler-weibo.ipynb\n",
    "- https://nbviewer.org/format/slides/github/chengjun/mybook/blob/main/06-data-cleaning-intro.ipynb\n",
    "- https://nbviewer.org/format/slides/github/chengjun/mybook/blob/main/06-data-cleaning-music-list.ipynb\n",
    "- https://nbviewer.org/format/slides/github/chengjun/mybook/blob/main/06-data-cleaning-occupy-central-news.ipynb\n",
    "- https://nbviewer.org/format/slides/github/chengjun/mybook/blob/main/06-data-cleaning-pandas.ipynb\n",
    "- https://nbviewer.org/format/slides/github/chengjun/mybook/blob/main/06-data-cleaning-preprocessing.ipynb\n",
    "- https://nbviewer.org/format/slides/github/chengjun/mybook/blob/main/06-data-cleaning-tweets.ipynb\n",
    "- https://nbviewer.org/format/slides/github/chengjun/mybook/blob/main/08-01-statistics-thinking.ipynb\n",
    "- https://nbviewer.org/format/slides/github/chengjun/mybook/blob/main/08-02-kl-divergence.ipynb\n",
    "- https://nbviewer.org/format/slides/github/chengjun/mybook/blob/main/08-02-linear-algebra.ipynb\n",
    "- https://nbviewer.org/format/slides/github/chengjun/mybook/blob/main/08-03-distributions.ipynb\n",
    "- https://nbviewer.org/format/slides/github/chengjun/mybook/blob/main/08-03-probability.ipynb\n",
    "- https://nbviewer.org/format/slides/github/chengjun/mybook/blob/main/08-04-hypothesis-inference.ipynb\n",
    "- https://nbviewer.org/format/slides/github/chengjun/mybook/blob/main/08-05-gradient-descent.ipynb\n",
    "- https://nbviewer.org/format/slides/github/chengjun/mybook/blob/main/08-06-regression.ipynb\n",
    "- https://nbviewer.org/format/slides/github/chengjun/mybook/blob/main/08-06-statsmodels.ipynb\n",
    "- https://nbviewer.org/format/slides/github/chengjun/mybook/blob/main/08-07-analyzing-titanic-dataset.ipynb\n",
    "- https://nbviewer.org/format/slides/github/chengjun/mybook/blob/main/08-07-covid19-pew-survey.ipynb\n",
    "- https://nbviewer.org/format/slides/github/chengjun/mybook/blob/main/08-08-covid19-grangercausality.ipynb\n",
    "- https://nbviewer.org/format/slides/github/chengjun/mybook/blob/main/08-09-survival-analysis.ipynb\n",
    "- https://nbviewer.org/format/slides/github/chengjun/mybook/blob/main/08-10-dowhy-estimation-methods.ipynb\n",
    "- https://nbviewer.org/format/slides/github/chengjun/mybook/blob/main/09-01-machine-learning-with-sklearn.ipynb\n",
    "- https://nbviewer.org/format/slides/github/chengjun/mybook/blob/main/09-03-hyperparameters-and-model-validation.ipynb\n",
    "- https://nbviewer.org/format/slides/github/chengjun/mybook/blob/main/09-04-feature-engineering.ipynb\n",
    "- https://nbviewer.org/format/slides/github/chengjun/mybook/blob/main/09-05-naive-bayes.ipynb\n",
    "- https://nbviewer.org/format/slides/github/chengjun/mybook/blob/main/09-06-linear-regression.ipynb\n",
    "- https://nbviewer.org/format/slides/github/chengjun/mybook/blob/main/09-07-support-vector-machines.ipynb\n",
    "- https://nbviewer.org/format/slides/github/chengjun/mybook/blob/main/09-08-random-forests.ipynb\n",
    "- https://nbviewer.org/format/slides/github/chengjun/mybook/blob/main/09-09-googleflustudy.ipynb\n",
    "- https://nbviewer.org/format/slides/github/chengjun/mybook/blob/main/09-10-future-employment.ipynb\n",
    "- https://nbviewer.org/format/slides/github/chengjun/mybook/blob/main/09-11-neural-network-intro.ipynb\n",
    "- https://nbviewer.org/format/slides/github/chengjun/mybook/blob/main/09-12-hand-written-digits.ipynb\n",
    "- https://nbviewer.org/format/slides/github/chengjun/mybook/blob/main/09-13-cnn.ipynb\n",
    "- https://nbviewer.org/format/slides/github/chengjun/mybook/blob/main/09-14-rnn.ipynb\n",
    "- https://nbviewer.org/format/slides/github/chengjun/mybook/blob/main/09-15-cifar10.ipynb\n",
    "- https://nbviewer.org/format/slides/github/chengjun/mybook/blob/main/09-16-pytorch_vgg_pretrained.ipynb\n",
    "- https://nbviewer.org/format/slides/github/chengjun/mybook/blob/main/09-grf.ipynb\n",
    "- https://nbviewer.org/format/slides/github/chengjun/mybook/blob/main/10-doc2vec.ipynb\n",
    "- https://nbviewer.org/format/slides/github/chengjun/mybook/blob/main/10-text-minning-gov-report.ipynb\n",
    "- https://nbviewer.org/format/slides/github/chengjun/mybook/blob/main/10-word2vec.ipynb\n",
    "- https://nbviewer.org/format/slides/github/chengjun/mybook/blob/main/11-1-sentiment-analysis-with-dict.ipynb\n",
    "- https://nbviewer.org/format/slides/github/chengjun/mybook/blob/main/11-2-emotion-dict.ipynb\n",
    "- https://nbviewer.org/format/slides/github/chengjun/mybook/blob/main/11-3-NRC-Chinese-dict.ipynb\n",
    "- https://nbviewer.org/format/slides/github/chengjun/mybook/blob/main/11-3-textblob.ipynb\n",
    "- https://nbviewer.org/format/slides/github/chengjun/mybook/blob/main/11-4-sentiment-classifier.ipynb\n",
    "- https://nbviewer.org/format/slides/github/chengjun/mybook/blob/main/11-5-LIWC.ipynb\n",
    "- https://nbviewer.org/format/slides/github/chengjun/mybook/blob/main/12-topic-models-update.ipynb\n",
    "- https://nbviewer.org/format/slides/github/chengjun/mybook/blob/main/12-topic-models-with-turicreate.ipynb\n",
    "- https://nbviewer.org/format/slides/github/chengjun/mybook/blob/main/13-recsys-intro-surprise.ipynb\n",
    "- https://nbviewer.org/format/slides/github/chengjun/mybook/blob/main/13-recsys-intro.ipynb\n",
    "- https://nbviewer.org/format/slides/github/chengjun/mybook/blob/main/13-recsys-latent-factor-model.ipynb\n",
    "- https://nbviewer.org/format/slides/github/chengjun/mybook/blob/main/14-millionsong.ipynb\n",
    "- https://nbviewer.org/format/slides/github/chengjun/mybook/blob/main/14-movielens.ipynb\n",
    "- https://nbviewer.org/format/slides/github/chengjun/mybook/blob/main/15-network-science-intro.ipynb\n",
    "- https://nbviewer.org/format/slides/github/chengjun/mybook/blob/main/16-network-science-models.ipynb\n",
    "- https://nbviewer.org/format/slides/github/chengjun/mybook/blob/main/17-networkx.ipynb\n",
    "- https://nbviewer.org/format/slides/github/chengjun/mybook/blob/main/18-02-network-diffusion.ipynb\n",
    "- https://nbviewer.org/format/slides/github/chengjun/mybook/blob/main/18-03-network-epidemics.ipynb\n",
    "- https://nbviewer.org/format/slides/github/chengjun/mybook/blob/main/18-04-seir-hcd-model.ipynb\n",
    "- https://nbviewer.org/format/slides/github/chengjun/mybook/blob/main/18-network-analysis-of-tianya-bbs.ipynb\n",
    "- https://nbviewer.org/format/slides/github/chengjun/mybook/blob/main/18-network-ecomplexity.ipynb\n",
    "- https://nbviewer.org/format/slides/github/chengjun/mybook/blob/main/18-network-ergm-siena.ipynb\n",
    "- https://nbviewer.org/format/slides/github/chengjun/mybook/blob/main/18-network-weibo-hot-search.ipynb\n",
    "- https://nbviewer.org/format/slides/github/chengjun/mybook/blob/main/19-facebook-ego-netwrok-visualization.ipynb\n",
    "- https://nbviewer.org/format/slides/github/chengjun/mybook/blob/main/19-visualization-datapane.ipynb\n",
    "- https://nbviewer.org/format/slides/github/chengjun/mybook/blob/main/19-visualization-datashader.ipynb\n",
    "- https://nbviewer.org/format/slides/github/chengjun/mybook/blob/main/19-visualization-maps-using-folium.ipynb\n",
    "- https://nbviewer.org/format/slides/github/chengjun/mybook/blob/main/19-visualization-pantheon.ipynb\n",
    "- https://nbviewer.org/format/slides/github/chengjun/mybook/blob/main/19-visualization-plotly-express.ipynb\n",
    "- https://nbviewer.org/format/slides/github/chengjun/mybook/blob/main/19-visualization-scientific-plot.ipynb\n",
    "- https://nbviewer.org/format/slides/github/chengjun/mybook/blob/main/19-visualization-with-pyecharts.ipynb\n",
    "- https://nbviewer.org/format/slides/github/chengjun/mybook/blob/main/19-visualization-with-seaborn.ipynb"
   ]
  },
  {
   "cell_type": "markdown",
   "metadata": {
    "slideshow": {
     "slide_type": "slide"
    }
   },
   "source": [
    "## RISE: \"Live\" Reveal.js Jupyter/IPython Slideshow Extension\n",
    "https://github.com/damianavila/RISE"
   ]
  },
  {
   "cell_type": "markdown",
   "metadata": {
    "slideshow": {
     "slide_type": "slide"
    }
   },
   "source": [
    "## Installation\n",
    "- Downnload from https://github.com/damianavila/RISE\n",
    "- open your teminal, cd to the RISE folder, e.g., \n",
    "\n",
    "    >## cd  /github/RISE/\n",
    "\n",
    "- To install this nbextension, simply run \n",
    "\n",
    "    >## python setup.py install\n",
    "\n",
    "from the RISE repository."
   ]
  },
  {
   "cell_type": "markdown",
   "metadata": {
    "slideshow": {
     "slide_type": "subslide"
    }
   },
   "source": [
    "In the notebook toolbar, a new button (\"Enter/Exit Live Reveal Slideshow\") will be available.\n",
    "\n",
    "The notebook toolbar also contains a \"Cell Toolbar\" dropdown menu that gives you access to metadata for each cell. If you select the Slideshow preset, you will see in the right corner of each cell a little box where you can select the cell type (similar as for the static reveal slides with nbconvert)."
   ]
  },
  {
   "cell_type": "markdown",
   "metadata": {
    "slideshow": {
     "slide_type": "slide"
    }
   },
   "source": [
    "## 将ipynb文件转为slides.html\n",
    "- download the reveal.js from Github https://github.com/hakimel/reveal.js\n",
    "- generate html using the following code\n",
    "- put the generated html into the reveal.js folder\n",
    "- open the html using chrome\n"
   ]
  },
  {
   "cell_type": "markdown",
   "metadata": {
    "slideshow": {
     "slide_type": "fragment"
    }
   },
   "source": [
    "    chengjuns-MacBook-Pro:~ chengjun$ cd github/cjc/code/\n",
    "\n",
    "    chengjuns-MacBook-Pro:code chengjun$ jupyter nbconvert slides.ipynb --to slides --post serve"
   ]
  },
  {
   "cell_type": "markdown",
   "metadata": {
    "slideshow": {
     "slide_type": "subslide"
    }
   },
   "source": [
    "## 批量生成slides.html¶\n",
    "    chengjuns-MacBook-Pro:~ chengjun$ cd github/cjc/code/\n",
    "    \n",
    "    chengjuns-MacBook-Pro:code chengjun$ jupyter nbconvert *.ipynb --to slides"
   ]
  },
  {
   "cell_type": "markdown",
   "metadata": {
    "slideshow": {
     "slide_type": "slide"
    }
   },
   "source": [
    "## 数学公式\n",
    "$E = MC^2$"
   ]
  },
  {
   "cell_type": "code",
   "execution_count": 10,
   "metadata": {
    "slideshow": {
     "slide_type": "fragment"
    }
   },
   "outputs": [
    {
     "data": {
      "text/latex": [
       "\\begin{align}\n",
       "a = \\frac{1}{2}\\\\\n",
       "\\end{align}"
      ],
      "text/plain": [
       "<IPython.core.display.Latex object>"
      ]
     },
     "metadata": {},
     "output_type": "display_data"
    }
   ],
   "source": [
    "%%latex\n",
    "\\begin{align}\n",
    "a = \\frac{1}{2}\\\\\n",
    "\\end{align}"
   ]
  },
  {
   "cell_type": "markdown",
   "metadata": {
    "slideshow": {
     "slide_type": "slide"
    }
   },
   "source": [
    "## 程序代码"
   ]
  },
  {
   "cell_type": "code",
   "execution_count": 1,
   "metadata": {
    "slideshow": {
     "slide_type": "fragment"
    }
   },
   "outputs": [
    {
     "name": "stdout",
     "output_type": "stream",
     "text": [
      "hello world\n"
     ]
    }
   ],
   "source": [
    "print 'hello world'"
   ]
  },
  {
   "cell_type": "code",
   "execution_count": 2,
   "metadata": {
    "slideshow": {
     "slide_type": "fragment"
    }
   },
   "outputs": [
    {
     "name": "stdout",
     "output_type": "stream",
     "text": [
      "0\n",
      "1\n",
      "2\n",
      "3\n",
      "4\n",
      "5\n",
      "6\n",
      "7\n",
      "8\n",
      "9\n"
     ]
    }
   ],
   "source": [
    "for i in range(10):\n",
    "    print i"
   ]
  },
  {
   "cell_type": "code",
   "execution_count": null,
   "metadata": {
    "collapsed": true,
    "slideshow": {
     "slide_type": "slide"
    }
   },
   "outputs": [],
   "source": [
    "# get a list of all the available magics"
   ]
  },
  {
   "cell_type": "code",
   "execution_count": 21,
   "metadata": {
    "slideshow": {
     "slide_type": "fragment"
    }
   },
   "outputs": [
    {
     "data": {
      "application/json": {
       "cell": {
        "!": "OSMagics",
        "HTML": "Other",
        "SVG": "Other",
        "bash": "Other",
        "capture": "ExecutionMagics",
        "debug": "ExecutionMagics",
        "file": "Other",
        "html": "DisplayMagics",
        "javascript": "DisplayMagics",
        "latex": "DisplayMagics",
        "perl": "Other",
        "prun": "ExecutionMagics",
        "pypy": "Other",
        "python": "Other",
        "python2": "Other",
        "python3": "Other",
        "ruby": "Other",
        "script": "ScriptMagics",
        "sh": "Other",
        "svg": "DisplayMagics",
        "sx": "OSMagics",
        "system": "OSMagics",
        "time": "ExecutionMagics",
        "timeit": "ExecutionMagics",
        "writefile": "OSMagics"
       },
       "line": {
        "alias": "OSMagics",
        "alias_magic": "BasicMagics",
        "autocall": "AutoMagics",
        "automagic": "AutoMagics",
        "autosave": "KernelMagics",
        "bookmark": "OSMagics",
        "cat": "Other",
        "cd": "OSMagics",
        "clear": "KernelMagics",
        "colors": "BasicMagics",
        "config": "ConfigMagics",
        "connect_info": "KernelMagics",
        "cp": "Other",
        "debug": "ExecutionMagics",
        "dhist": "OSMagics",
        "dirs": "OSMagics",
        "doctest_mode": "BasicMagics",
        "ed": "Other",
        "edit": "KernelMagics",
        "env": "OSMagics",
        "gui": "BasicMagics",
        "hist": "Other",
        "history": "HistoryMagics",
        "install_default_config": "DeprecatedMagics",
        "install_ext": "ExtensionMagics",
        "install_profiles": "DeprecatedMagics",
        "killbgscripts": "ScriptMagics",
        "ldir": "Other",
        "less": "KernelMagics",
        "lf": "Other",
        "lk": "Other",
        "ll": "Other",
        "load": "CodeMagics",
        "load_ext": "ExtensionMagics",
        "loadpy": "CodeMagics",
        "logoff": "LoggingMagics",
        "logon": "LoggingMagics",
        "logstart": "LoggingMagics",
        "logstate": "LoggingMagics",
        "logstop": "LoggingMagics",
        "ls": "Other",
        "lsmagic": "BasicMagics",
        "lx": "Other",
        "macro": "ExecutionMagics",
        "magic": "BasicMagics",
        "man": "KernelMagics",
        "matplotlib": "PylabMagics",
        "mkdir": "Other",
        "more": "KernelMagics",
        "mv": "Other",
        "notebook": "BasicMagics",
        "page": "BasicMagics",
        "pastebin": "CodeMagics",
        "pdb": "ExecutionMagics",
        "pdef": "NamespaceMagics",
        "pdoc": "NamespaceMagics",
        "pfile": "NamespaceMagics",
        "pinfo": "NamespaceMagics",
        "pinfo2": "NamespaceMagics",
        "popd": "OSMagics",
        "pprint": "BasicMagics",
        "precision": "BasicMagics",
        "profile": "BasicMagics",
        "prun": "ExecutionMagics",
        "psearch": "NamespaceMagics",
        "psource": "NamespaceMagics",
        "pushd": "OSMagics",
        "pwd": "OSMagics",
        "pycat": "OSMagics",
        "pylab": "PylabMagics",
        "qtconsole": "KernelMagics",
        "quickref": "BasicMagics",
        "recall": "HistoryMagics",
        "rehashx": "OSMagics",
        "reload_ext": "ExtensionMagics",
        "rep": "Other",
        "rerun": "HistoryMagics",
        "reset": "NamespaceMagics",
        "reset_selective": "NamespaceMagics",
        "rm": "Other",
        "rmdir": "Other",
        "run": "ExecutionMagics",
        "save": "CodeMagics",
        "sc": "OSMagics",
        "set_env": "OSMagics",
        "store": "StoreMagics",
        "sx": "OSMagics",
        "system": "OSMagics",
        "tb": "ExecutionMagics",
        "time": "ExecutionMagics",
        "timeit": "ExecutionMagics",
        "unalias": "OSMagics",
        "unload_ext": "ExtensionMagics",
        "who": "NamespaceMagics",
        "who_ls": "NamespaceMagics",
        "whos": "NamespaceMagics",
        "xdel": "NamespaceMagics",
        "xmode": "BasicMagics"
       }
      },
      "text/plain": [
       "Available line magics:\n",
       "%alias  %alias_magic  %autocall  %automagic  %autosave  %bookmark  %cat  %cd  %clear  %colors  %config  %connect_info  %cp  %debug  %dhist  %dirs  %doctest_mode  %ed  %edit  %env  %gui  %hist  %history  %install_default_config  %install_ext  %install_profiles  %killbgscripts  %ldir  %less  %lf  %lk  %ll  %load  %load_ext  %loadpy  %logoff  %logon  %logstart  %logstate  %logstop  %ls  %lsmagic  %lx  %macro  %magic  %man  %matplotlib  %mkdir  %more  %mv  %notebook  %page  %pastebin  %pdb  %pdef  %pdoc  %pfile  %pinfo  %pinfo2  %popd  %pprint  %precision  %profile  %prun  %psearch  %psource  %pushd  %pwd  %pycat  %pylab  %qtconsole  %quickref  %recall  %rehashx  %reload_ext  %rep  %rerun  %reset  %reset_selective  %rm  %rmdir  %run  %save  %sc  %set_env  %store  %sx  %system  %tb  %time  %timeit  %unalias  %unload_ext  %who  %who_ls  %whos  %xdel  %xmode\n",
       "\n",
       "Available cell magics:\n",
       "%%!  %%HTML  %%SVG  %%bash  %%capture  %%debug  %%file  %%html  %%javascript  %%latex  %%perl  %%prun  %%pypy  %%python  %%python2  %%python3  %%ruby  %%script  %%sh  %%svg  %%sx  %%system  %%time  %%timeit  %%writefile\n",
       "\n",
       "Automagic is ON, % prefix IS NOT needed for line magics."
      ]
     },
     "execution_count": 21,
     "metadata": {},
     "output_type": "execute_result"
    }
   ],
   "source": [
    "% lsmagic"
   ]
  },
  {
   "cell_type": "code",
   "execution_count": 20,
   "metadata": {
    "slideshow": {
     "slide_type": "slide"
    }
   },
   "outputs": [
    {
     "data": {
      "text/plain": [
       "{'Apple_PubSub_Socket_Render': '/private/tmp/com.apple.launchd.Cti3IOL0XG/Render',\n",
       " 'CLICOLOR': '1',\n",
       " 'DISPLAY': '/private/tmp/com.apple.launchd.GQAU1RS6KM/org.macosforge.xquartz:0',\n",
       " 'GIT_PAGER': 'cat',\n",
       " 'HOME': '/Users/chengjun',\n",
       " 'JPY_PARENT_PID': '84860',\n",
       " 'LANG': 'en_US.UTF-8',\n",
       " 'LC_ALL': 'en_US.UTF-8',\n",
       " 'LC_CTYPE': 'UTF-8',\n",
       " 'LOGNAME': 'chengjun',\n",
       " 'PAGER': 'cat',\n",
       " 'PATH': '/Users/chengjun/anaconda/bin:/usr/local/bin:/usr/bin:/bin:/usr/sbin:/sbin:/opt/X11/bin:/usr/local/git/bin:/usr/texbin',\n",
       " 'PWD': '/Users/chengjun',\n",
       " 'SECURITYSESSIONID': '186a5',\n",
       " 'SHELL': '/bin/bash',\n",
       " 'SHLVL': '2',\n",
       " 'SSH_AUTH_SOCK': '/private/tmp/com.apple.launchd.VNCcz4m0az/Listeners',\n",
       " 'TERM': 'xterm-color',\n",
       " 'TERM_PROGRAM': 'Apple_Terminal',\n",
       " 'TERM_PROGRAM_VERSION': '343',\n",
       " 'TERM_SESSION_ID': 'FDFD985A-CDD6-415E-A3B0-E8A2A05CC9B4',\n",
       " 'TMPDIR': '/var/folders/l6/ntr5b4610hx38gy0_2xp7ngh0000gn/T/',\n",
       " 'USER': 'chengjun',\n",
       " 'XPC_FLAGS': '0x0',\n",
       " 'XPC_SERVICE_NAME': '0',\n",
       " '_': '/Users/chengjun/anaconda/python.app/Contents/MacOS/python',\n",
       " '__CF_USER_TEXT_ENCODING': '0x1F5:0x0:0x0'}"
      ]
     },
     "execution_count": 20,
     "metadata": {},
     "output_type": "execute_result"
    }
   ],
   "source": [
    "% env\n",
    "# to list your environment variables."
   ]
  },
  {
   "cell_type": "code",
   "execution_count": 11,
   "metadata": {
    "slideshow": {
     "slide_type": "slide"
    }
   },
   "outputs": [
    {
     "name": "stdout",
     "output_type": "stream",
     "text": [
      " "
     ]
    }
   ],
   "source": [
    "%prun"
   ]
  },
  {
   "cell_type": "code",
   "execution_count": 15,
   "metadata": {
    "slideshow": {
     "slide_type": "slide"
    }
   },
   "outputs": [
    {
     "name": "stdout",
     "output_type": "stream",
     "text": [
      "CPU times: user 11 µs, sys: 9 µs, total: 20 µs\n",
      "Wall time: 21 µs\n"
     ]
    },
    {
     "data": {
      "text/plain": [
       "[0, 1, 2, 3, 4, 5, 6, 7, 8, 9]"
      ]
     },
     "execution_count": 15,
     "metadata": {},
     "output_type": "execute_result"
    }
   ],
   "source": [
    "%time range(10)"
   ]
  },
  {
   "cell_type": "code",
   "execution_count": 14,
   "metadata": {
    "slideshow": {
     "slide_type": "fragment"
    }
   },
   "outputs": [
    {
     "name": "stdout",
     "output_type": "stream",
     "text": [
      "The slowest run took 295.47 times longer than the fastest. This could mean that an intermediate result is being cached.\n",
      "1000000 loops, best of 3: 748 ns per loop\n"
     ]
    }
   ],
   "source": [
    "%timeit range(100)"
   ]
  },
  {
   "cell_type": "markdown",
   "metadata": {
    "slideshow": {
     "slide_type": "slide"
    }
   },
   "source": [
    "!: to run a shell command. E.g., ! pip freeze | grep pandas to see what version of pandas is installed.\n"
   ]
  },
  {
   "cell_type": "code",
   "execution_count": 17,
   "metadata": {
    "slideshow": {
     "slide_type": "fragment"
    }
   },
   "outputs": [],
   "source": [
    "! cd /Users/chengjun/github/"
   ]
  },
  {
   "cell_type": "code",
   "execution_count": 19,
   "metadata": {
    "slideshow": {
     "slide_type": "slide"
    }
   },
   "outputs": [
    {
     "data": {
      "image/png": "[encoded data removed]",
      "text/plain": [
       "<matplotlib.figure.Figure at 0x1074cbad0>"
      ]
     },
     "metadata": {},
     "output_type": "display_data"
    }
   ],
   "source": [
    "% matplotlib inline \n",
    "# to show matplotlib plots inline the notebook.\n",
    "import matplotlib.pyplot as plt\n",
    "\n",
    "plt.plot(range(10), range(10), 'r-o')\n",
    "plt.show()"
   ]
  },
  {
   "cell_type": "markdown",
   "metadata": {
    "collapsed": true,
    "slideshow": {
     "slide_type": "slide"
    }
   },
   "source": [
    "![](./images/end.png) "
   ]
  }
 ],
 "metadata": {
  "anaconda-cloud": {},
  "celltoolbar": "Slideshow",
  "kernelspec": {
   "display_name": "Python 3 (ipykernel)",
   "language": "python",
   "name": "python3"
  },
  "language_info": {
   "codemirror_mode": {
    "name": "ipython",
    "version": 3
   },
   "file_extension": ".py",
   "mimetype": "text/x-python",
   "name": "python",
   "nbconvert_exporter": "python",
   "pygments_lexer": "ipython3",
   "version": "3.9.7"
  },
  "latex_envs": {
   "LaTeX_envs_menu_present": true,
   "autoclose": false,
   "autocomplete": true,
   "bibliofile": "biblio.bib",
   "cite_by": "apalike",
   "current_citInitial": 1,
   "eqLabelWithNumbers": true,
   "eqNumInitial": 0,
   "hotkeys": {
    "equation": "Ctrl-E",
    "itemize": "Ctrl-I"
   },
   "labels_anchors": false,
   "latex_user_defs": false,
   "report_style_numbering": false,
   "user_envs_cfg": false
  },
  "toc": {
   "base_numbering": 1,
   "nav_menu": {},
   "number_sections": false,
   "sideBar": true,
   "skip_h1_title": false,
   "title_cell": "Table of Contents",
   "title_sidebar": "Contents",
   "toc_cell": false,
   "toc_position": {
    "height": "620px",
    "left": "1205.98px",
    "top": "110.052px",
    "width": "184.271px"
   },
   "toc_section_display": true,
   "toc_window_display": true
  }
 },
 "nbformat": 4,
 "nbformat_minor": 1
}
