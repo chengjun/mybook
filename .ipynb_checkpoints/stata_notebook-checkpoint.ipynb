{
 "cells": [
  {
   "cell_type": "code",
   "execution_count": 4,
   "id": "2c86d3b1",
   "metadata": {
    "ExecuteTime": {
     "end_time": "2024-09-26T07:42:12.619974Z",
     "start_time": "2024-09-26T07:42:12.362065Z"
    }
   },
   "outputs": [
    {
     "name": "stdout",
     "output_type": "stream",
     "text": [
      "D:\\OneDrive - nju.edu.cn\\10papers\\causal_inference_references\\RebelCanal157781-V\n",
      "> 1\n"
     ]
    }
   ],
   "source": [
    "cd \"D:/OneDrive - nju.edu.cn/10papers/causal_inference_references/RebelCanal157781-V1/\""
   ]
  },
  {
   "cell_type": "code",
   "execution_count": 5,
   "id": "b2db4be2",
   "metadata": {
    "ExecuteTime": {
     "end_time": "2024-09-26T07:42:39.632650Z",
     "start_time": "2024-09-26T07:42:37.262568Z"
    }
   },
   "outputs": [],
   "source": [
    "**************************************************************************\n",
    "*** Set up\n",
    "**************************************************************************\n",
    "use \"Data/Final/rebellion.dta\", clear\n",
    "run \"Program/Analysis/generalsetup.do\""
   ]
  },
  {
   "cell_type": "code",
   "execution_count": 9,
   "id": "6fb72694",
   "metadata": {
    "ExecuteTime": {
     "end_time": "2024-09-26T07:47:44.417800Z",
     "start_time": "2024-09-26T07:47:16.070253Z"
    }
   },
   "outputs": [
    {
     "name": "stdout",
     "output_type": "stream",
     "text": [
      "checking reghdfe consistency and verifying not already installed...\n",
      "installing into C:\\Users\\Administrator\\ado\\plus\\...\n",
      "installation complete.\n"
     ]
    }
   ],
   "source": [
    "ssc install reghdfe, replace"
   ]
  },
  {
   "cell_type": "code",
   "execution_count": 13,
   "id": "a7a8adaf",
   "metadata": {
    "ExecuteTime": {
     "end_time": "2024-09-26T07:50:45.306108Z",
     "start_time": "2024-09-26T07:50:09.112275Z"
    }
   },
   "outputs": [
    {
     "name": "stdout",
     "output_type": "stream",
     "text": [
      "checking ftools consistency and verifying not already installed...\n",
      "installing into C:\\Users\\Administrator\\ado\\plus\\...\n",
      "installation complete.\n"
     ]
    }
   ],
   "source": [
    "ssc install ftools, replace"
   ]
  },
  {
   "cell_type": "code",
   "execution_count": 11,
   "id": "8a31e576",
   "metadata": {
    "ExecuteTime": {
     "end_time": "2024-09-26T07:48:51.405386Z",
     "start_time": "2024-09-26T07:48:30.908351Z"
    }
   },
   "outputs": [
    {
     "name": "stdout",
     "output_type": "stream",
     "text": [
      "checking estout consistency and verifying not already installed...\n",
      "\n",
      "the following files will be replaced:\n",
      "    C:\\Users\\Administrator\\ado\\plus\\e\\estout.ado\n",
      "    C:\\Users\\Administrator\\ado\\plus\\e\\estpost.ado\n",
      "    C:\\Users\\Administrator\\ado\\plus\\e\\estpost.hlp\n",
      "    C:\\Users\\Administrator\\ado\\plus\\e\\esttab.ado\n",
      "    C:\\Users\\Administrator\\ado\\plus\\e\\esttab.hlp\n",
      "\n",
      "installing into C:\\Users\\Administrator\\ado\\plus\\...\n",
      "installation complete.\n"
     ]
    }
   ],
   "source": [
    "ssc install estout, replace"
   ]
  },
  {
   "cell_type": "code",
   "execution_count": 10,
   "id": "413a6fc6",
   "metadata": {
    "ExecuteTime": {
     "end_time": "2024-09-26T07:47:50.409347Z",
     "start_time": "2024-09-26T07:47:50.216998Z"
    }
   },
   "outputs": [
    {
     "name": "stdout",
     "output_type": "stream",
     "text": [
      "\n",
      ".\\ftools.ado\n",
      "*! version 2.48.0 29mar2021\n",
      "\n",
      ".\\reghdfe.ado\n",
      "*! version 6.12.2 02Nov2021\n"
     ]
    }
   ],
   "source": [
    "which ftools\n",
    "which reghdfe"
   ]
  },
  {
   "cell_type": "code",
   "execution_count": 14,
   "id": "7cd2b039",
   "metadata": {
    "ExecuteTime": {
     "end_time": "2024-09-26T07:50:52.818986Z",
     "start_time": "2024-09-26T07:50:51.083351Z"
    }
   },
   "outputs": [
    {
     "name": "stdout",
     "output_type": "stream",
     "text": [
      "\n",
      "(MWFE estimator converged in 2 iterations)\n",
      "\n",
      "HDFE Linear regression                            Number of obs   =    140,432\n",
      "Absorbing 2 HDFE groups                           F(   1,    535) =       5.23\n",
      "Statistics robust to heteroskedasticity           Prob > F        =     0.0226\n",
      "                                                  R-squared       =     0.0308\n",
      "                                                  Adj R-squared   =     0.0253\n",
      "                                                  Within R-sq.    =     0.0002\n",
      "Number of clusters (OBJECTID) =        536        Root MSE        =     0.3848\n",
      "\n",
      "                             (Std. err. adjusted for 536 clusters in OBJECTID)\n",
      "------------------------------------------------------------------------------\n",
      "             |               Robust\n",
      "ash~ypop1600 | Coefficient  std. err.      t    P>|t|     [95% conf. interval]\n",
      "-------------+----------------------------------------------------------------\n",
      "interaction1 |   .0380143    .016621     2.29   0.023     .0053639    .0706647\n",
      "       _cons |   .0313251   .0007227    43.35   0.000     .0299054    .0327447\n",
      "------------------------------------------------------------------------------\n",
      "\n",
      "Absorbed degrees of freedom:\n",
      "-----------------------------------------------------+\n",
      " Absorbed FE | Categories  - Redundant  = Num. Coefs |\n",
      "-------------+---------------------------------------|\n",
      "    OBJECTID |       536         536           0    *|\n",
      "        year |       262           1         261     |\n",
      "-----------------------------------------------------+\n",
      "* = FE nested within cluster; treated as redundant for DoF computation\n",
      "\n"
     ]
    }
   ],
   "source": [
    "**************************************************************************\n",
    "*** Table3. Canal closure and rebellions: baseline estimates\n",
    "**************************************************************************\n",
    "reghdfe $Y $X, absorb(i.OBJECTID i.year) cluster(OBJECTID)\n",
    "eststo est1"
   ]
  },
  {
   "cell_type": "code",
   "execution_count": 15,
   "id": "398ab3a8",
   "metadata": {
    "ExecuteTime": {
     "end_time": "2024-09-26T07:51:33.965578Z",
     "start_time": "2024-09-26T07:51:32.742346Z"
    }
   },
   "outputs": [
    {
     "name": "stdout",
     "output_type": "stream",
     "text": [
      "\n",
      "(MWFE estimator converged in 2 iterations)\n",
      "\n",
      "HDFE Linear regression                            Number of obs   =    140,432\n",
      "Absorbing 2 HDFE groups                           F(   1,    535) =       5.23\n",
      "Statistics robust to heteroskedasticity           Prob > F        =     0.0226\n",
      "                                                  R-squared       =     0.0308\n",
      "                                                  Adj R-squared   =     0.0253\n",
      "                                                  Within R-sq.    =     0.0002\n",
      "Number of clusters (OBJECTID) =        536        Root MSE        =     0.3848\n",
      "\n",
      "                             (Std. err. adjusted for 536 clusters in OBJECTID)\n",
      "------------------------------------------------------------------------------\n",
      "             |               Robust\n",
      "ash~ypop1600 | Coefficient  std. err.      t    P>|t|     [95% conf. interval]\n",
      "-------------+----------------------------------------------------------------\n",
      "interaction1 |   .0380143    .016621     2.29   0.023     .0053639    .0706647\n",
      "       _cons |   .0313251   .0007227    43.35   0.000     .0299054    .0327447\n",
      "------------------------------------------------------------------------------\n",
      "\n",
      "Absorbed degrees of freedom:\n",
      "-----------------------------------------------------+\n",
      " Absorbed FE | Categories  - Redundant  = Num. Coefs |\n",
      "-------------+---------------------------------------|\n",
      "    OBJECTID |       536         536           0    *|\n",
      "        year |       262           1         261     |\n",
      "-----------------------------------------------------+\n",
      "* = FE nested within cluster; treated as redundant for DoF computation\n",
      "\n",
      "\n",
      "\n",
      "\n",
      "\n",
      "\n",
      "\n"
     ]
    }
   ],
   "source": [
    "**************************************************************************\n",
    "*** Table3. Canal closure and rebellions: baseline estimates\n",
    "**************************************************************************\n",
    "reghdfe $Y $X, absorb(i.OBJECTID i.year) cluster(OBJECTID)\n",
    "eststo est1\n",
    "qui tab OBJECTID if e(sample)\n",
    "scalar groups=r(r)\n",
    "qui su $Y if e(sample)\n",
    "scalar ymean=r(mean)\n",
    "estadd scalar depavg=ymean:est1\n",
    "estadd scalar N_g=groups:est1"
   ]
  },
  {
   "cell_type": "code",
   "execution_count": null,
   "id": "5bc59666",
   "metadata": {},
   "outputs": [],
   "source": []
  }
 ],
 "metadata": {
  "kernelspec": {
   "display_name": "Stata",
   "language": "stata",
   "name": "stata"
  },
  "language_info": {
   "codemirror_mode": "stata",
   "file_extension": ".do",
   "mimetype": "text/x-stata",
   "name": "stata",
   "version": "15.1"
  }
 },
 "nbformat": 4,
 "nbformat_minor": 5
}
