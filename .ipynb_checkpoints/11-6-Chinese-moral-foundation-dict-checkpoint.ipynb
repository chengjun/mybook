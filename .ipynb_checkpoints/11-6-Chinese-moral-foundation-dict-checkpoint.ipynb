{
 "cells": [
  {
   "cell_type": "markdown",
   "metadata": {
    "slideshow": {
     "slide_type": "slide"
    }
   },
   "source": [
    "# Chinese Moral Foundation Dictionary 2.0\n",
    "\n",
    "Chinese Moral Foundation Dictionary 2.0 for Python. This project was inspired by https://github.com/civictechlab/cmfd\n",
    "\n",
    "### Introduction\n",
    "The Chinese Moral Foundation Dictionary 2.0 (C-MFD 2.0) is a dictionary to assist the automated moral intuition detection and analysis in the Chinese language context. Starting from the existing Chinese translation of the English MFD, two experts selected additional Chinese moral concepts and used word2vec to fetch related words from an extensive Chinese dictionary. Four experts went through four-rounds of coding, followed by the validation from 202 crowd coders. The CMFD identifies not only the classic five moral foundations but also several potentially novel moral foundation candidates."
   ]
  },
  {
   "cell_type": "code",
   "execution_count": 6,
   "metadata": {
    "ExecuteTime": {
     "end_time": "2023-11-24T06:59:27.040471Z",
     "start_time": "2023-11-24T06:59:24.381430Z"
    },
    "slideshow": {
     "slide_type": "subslide"
    }
   },
   "outputs": [
    {
     "name": "stdout",
     "output_type": "stream",
     "text": [
      "Requirement already satisfied: cmfd in /opt/anaconda3/lib/python3.9/site-packages (0.2.1)\n",
      "Note: you may need to restart the kernel to use updated packages.\n"
     ]
    }
   ],
   "source": [
    "pip install cmfd"
   ]
  },
  {
   "cell_type": "markdown",
   "metadata": {
    "ExecuteTime": {
     "end_time": "2023-11-27T02:24:29.619291Z",
     "start_time": "2023-11-27T02:24:29.614930Z"
    },
    "slideshow": {
     "slide_type": "subslide"
    }
   },
   "source": [
    "```Python\n",
    "import cmfd\n",
    "\n",
    "result = cmfd.moral_quantity(text_test, duplicate=False, with_word=True)\n",
    "print(result)  \n",
    "```\n",
    "\n",
    "URLError: <urlopen error [Errno 61] Connection refused>\n",
    "\n",
    "```Python\n",
    "import pandas as pd\n",
    "df = pd.read_csv(r\"https://raw.githubusercontent.com/CivicTechLab/CMFD/main/cmfd_civictech.csv\")\n",
    "```"
   ]
  },
  {
   "cell_type": "code",
   "execution_count": 11,
   "metadata": {
    "ExecuteTime": {
     "end_time": "2023-11-27T02:16:44.012645Z",
     "start_time": "2023-11-27T02:16:43.943437Z"
    },
    "slideshow": {
     "slide_type": "subslide"
    }
   },
   "outputs": [],
   "source": [
    "import pandas as pd\n",
    "\n",
    "df = pd.read_csv(\"./data/cmfd_civictech.csv\")\n"
   ]
  },
  {
   "cell_type": "code",
   "execution_count": 13,
   "metadata": {
    "ExecuteTime": {
     "end_time": "2023-11-27T02:17:39.167047Z",
     "start_time": "2023-11-27T02:17:37.866226Z"
    },
    "slideshow": {
     "slide_type": "subslide"
    }
   },
   "outputs": [
    {
     "name": "stderr",
     "output_type": "stream",
     "text": [
      "Building prefix dict from the default dictionary ...\n",
      "Dumping model to file cache /var/folders/8b/hhnbt0nd4zsg2qhxc28q23w80000gn/T/jieba.cache\n",
      "Loading model cost 1.067 seconds.\n",
      "Prefix dict has been built successfully.\n"
     ]
    }
   ],
   "source": [
    "import jieba\n",
    "\n",
    "moral_dict = {}\n",
    "for word in set(df['chinese'].tolist()):\n",
    "    jieba.add_word(word)\n",
    "\n",
    "for category, df_item in df.groupby(by=['foundation']):\n",
    "    moral_dict[category] = df_item['chinese'].tolist()\n"
   ]
  },
  {
   "cell_type": "code",
   "execution_count": 7,
   "metadata": {
    "ExecuteTime": {
     "end_time": "2023-11-24T06:59:29.111823Z",
     "start_time": "2023-11-24T06:59:29.108759Z"
    },
    "slideshow": {
     "slide_type": "subslide"
    }
   },
   "outputs": [],
   "source": [
    "text_test = \"\"\" 她一见他就倾心， 但他却偏要为非作歹。 结果两人败俱伤， 她心碎， 他惨遭报应。 他本来是一个英勇战斗的将军， 但因为一纸空文， 被诬陷入狱。 再加上尔虞我诈的诡计， 他最终丧失了自己的荣誉和尊严。 他曾认为自己是无所不能， 却不知道一念之间， 一切都会化为乌有。 如果他当初没有欺骗她， 如果他当初没有撕毁那张契约， 也许他们现在还在幸福的生活中。 现在， 他身陷囹圄， 只能思念那些曾经的日子。 他懊悔不已， 只能悔恨自己的软弱和自私。 他希望能有机会改正错误， 重新取回自己的荣誉， 但现实却是那么残酷。\"\"\""
   ]
  },
  {
   "cell_type": "code",
   "execution_count": 14,
   "metadata": {
    "ExecuteTime": {
     "end_time": "2023-11-27T02:18:03.144201Z",
     "start_time": "2023-11-27T02:18:03.130945Z"
    },
    "slideshow": {
     "slide_type": "subslide"
    }
   },
   "outputs": [],
   "source": [
    "def get_moral_dict():\n",
    "    return moral_dict\n",
    "\n",
    "\n",
    "def moral_quantity(text, duplicate=True, normalize=True, with_word=False):\n",
    "    \"\"\"\n",
    "     Calculate the number or proportion of moral dictionaries in Chinese text\n",
    "    :param text: chinese text\n",
    "    :param duplicate: keep repeated moral words\n",
    "    :param normalize: calculate the ratio\n",
    "    :param with_word: output with moral words\n",
    "    :return:\n",
    "    \"\"\"\n",
    "    if isinstance(text, str):\n",
    "        # The total number of matched moral words\n",
    "        word_total = 0\n",
    "        # dict of moral word\n",
    "        moral_word = {}\n",
    "        # Store the number corresponding to the moral vocabulary\n",
    "        moral_num = {}\n",
    "        if duplicate:\n",
    "            for key in moral_dict.keys():\n",
    "                moral_word[key] = []\n",
    "            for word in jieba.cut(text):\n",
    "                for key in moral_dict.keys():\n",
    "                    if word in moral_dict[key]:\n",
    "                        moral_word[key].append(word)\n",
    "        else:\n",
    "            for key in moral_dict.keys():\n",
    "                moral_word[key] = set()\n",
    "\n",
    "            for word in jieba.cut(text):\n",
    "                for key in moral_dict.keys():\n",
    "                    if word in moral_dict[key]:\n",
    "                        moral_word[key].add(word)\n",
    "\n",
    "        for key in moral_word.keys():\n",
    "            word_total += len(moral_word[key])\n",
    "\n",
    "        if word_total == 0:\n",
    "            return None\n",
    "\n",
    "        if normalize:\n",
    "            for key in moral_word.keys():\n",
    "                moral_num[key] = len(moral_word[key]) / word_total\n",
    "        else:\n",
    "            moral_num[key] = len(moral_word[key])\n",
    "        if with_word:\n",
    "            moral_word_num = {}\n",
    "            for key in moral_dict.keys():\n",
    "                moral_word_num[key] = {}\n",
    "                moral_word_num[key]['num'] = moral_num[key]\n",
    "                moral_word_num[key]['word'] = \";\".join(moral_word[key])\n",
    "            return moral_word_num\n",
    "        else:\n",
    "            return moral_num\n",
    "    return None"
   ]
  },
  {
   "cell_type": "code",
   "execution_count": 15,
   "metadata": {
    "ExecuteTime": {
     "end_time": "2023-11-27T02:18:14.441256Z",
     "start_time": "2023-11-27T02:18:14.360834Z"
    },
    "slideshow": {
     "slide_type": "subslide"
    }
   },
   "outputs": [
    {
     "data": {
      "text/plain": [
       "{'altr': 0.0,\n",
       " 'auth': 0.26666666666666666,\n",
       " 'care': 0.26666666666666666,\n",
       " 'dili': 0.0,\n",
       " 'fair': 0.26666666666666666,\n",
       " 'general': 0.06666666666666667,\n",
       " 'libe': 0.0,\n",
       " 'loya': 0.06666666666666667,\n",
       " 'mode': 0.0,\n",
       " 'resi': 0.0,\n",
       " 'sanc': 0.06666666666666667,\n",
       " 'wast': 0.0}"
      ]
     },
     "execution_count": 15,
     "metadata": {},
     "output_type": "execute_result"
    }
   ],
   "source": [
    "moral_quantity(text_test)"
   ]
  },
  {
   "cell_type": "code",
   "execution_count": null,
   "metadata": {},
   "outputs": [],
   "source": []
  }
 ],
 "metadata": {
  "celltoolbar": "幻灯片",
  "kernelspec": {
   "display_name": "Python 3 (ipykernel)",
   "language": "python",
   "name": "python3"
  },
  "language_info": {
   "codemirror_mode": {
    "name": "ipython",
    "version": 3
   },
   "file_extension": ".py",
   "mimetype": "text/x-python",
   "name": "python",
   "nbconvert_exporter": "python",
   "pygments_lexer": "ipython3",
   "version": "3.9.7"
  },
  "toc": {
   "base_numbering": 1,
   "nav_menu": {},
   "number_sections": false,
   "sideBar": true,
   "skip_h1_title": false,
   "title_cell": "Table of Contents",
   "title_sidebar": "Contents",
   "toc_cell": false,
   "toc_position": {},
   "toc_section_display": true,
   "toc_window_display": false
  }
 },
 "nbformat": 4,
 "nbformat_minor": 4
}
