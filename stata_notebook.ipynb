{
 "cells": [
  {
   "cell_type": "code",
   "execution_count": 4,
   "id": "fa8bdafa",
   "metadata": {
    "ExecuteTime": {
     "end_time": "2024-09-26T07:42:12.619974Z",
     "start_time": "2024-09-26T07:42:12.362065Z"
    }
   },
   "outputs": [
    {
     "name": "stdout",
     "output_type": "stream",
     "text": [
      "D:\\OneDrive - nju.edu.cn\\10papers\\causal_inference_references\\RebelCanal157781-V\n",
      "> 1\n"
     ]
    }
   ],
   "source": [
    "cd \"D:/OneDrive - nju.edu.cn/10papers/causal_inference_references/RebelCanal157781-V1/\""
   ]
  },
  {
   "cell_type": "code",
   "execution_count": 5,
   "id": "e6fa7c89",
   "metadata": {
    "ExecuteTime": {
     "end_time": "2024-09-26T07:42:39.632650Z",
     "start_time": "2024-09-26T07:42:37.262568Z"
    }
   },
   "outputs": [],
   "source": [
    "**************************************************************************\n",
    "*** Set up\n",
    "**************************************************************************\n",
    "use \"Data/Final/rebellion.dta\", clear\n",
    "run \"Program/Analysis/generalsetup.do\""
   ]
  },
  {
   "cell_type": "code",
   "execution_count": 9,
   "id": "62357986",
   "metadata": {
    "ExecuteTime": {
     "end_time": "2024-09-26T07:47:44.417800Z",
     "start_time": "2024-09-26T07:47:16.070253Z"
    }
   },
   "outputs": [
    {
     "name": "stdout",
     "output_type": "stream",
     "text": [
      "checking reghdfe consistency and verifying not already installed...\n",
      "installing into C:\\Users\\Administrator\\ado\\plus\\...\n",
      "installation complete.\n"
     ]
    }
   ],
   "source": [
    "ssc install reghdfe, replace"
   ]
  },
  {
   "cell_type": "code",
   "execution_count": 13,
   "id": "4036b03f",
   "metadata": {
    "ExecuteTime": {
     "end_time": "2024-09-26T07:50:45.306108Z",
     "start_time": "2024-09-26T07:50:09.112275Z"
    }
   },
   "outputs": [
    {
     "name": "stdout",
     "output_type": "stream",
     "text": [
      "checking ftools consistency and verifying not already installed...\n",
      "installing into C:\\Users\\Administrator\\ado\\plus\\...\n",
      "installation complete.\n"
     ]
    }
   ],
   "source": [
    "ssc install ftools, replace"
   ]
  },
  {
   "cell_type": "code",
   "execution_count": 11,
   "id": "3b7de40e",
   "metadata": {
    "ExecuteTime": {
     "end_time": "2024-09-26T07:48:51.405386Z",
     "start_time": "2024-09-26T07:48:30.908351Z"
    }
   },
   "outputs": [
    {
     "name": "stdout",
     "output_type": "stream",
     "text": [
      "checking estout consistency and verifying not already installed...\n",
      "\n",
      "the following files will be replaced:\n",
      "    C:\\Users\\Administrator\\ado\\plus\\e\\estout.ado\n",
      "    C:\\Users\\Administrator\\ado\\plus\\e\\estpost.ado\n",
      "    C:\\Users\\Administrator\\ado\\plus\\e\\estpost.hlp\n",
      "    C:\\Users\\Administrator\\ado\\plus\\e\\esttab.ado\n",
      "    C:\\Users\\Administrator\\ado\\plus\\e\\esttab.hlp\n",
      "\n",
      "installing into C:\\Users\\Administrator\\ado\\plus\\...\n",
      "installation complete.\n"
     ]
    }
   ],
   "source": [
    "ssc install estout, replace"
   ]
  },
  {
   "cell_type": "code",
   "execution_count": 10,
   "id": "91664c5c",
   "metadata": {
    "ExecuteTime": {
     "end_time": "2024-09-26T07:47:50.409347Z",
     "start_time": "2024-09-26T07:47:50.216998Z"
    }
   },
   "outputs": [
    {
     "name": "stdout",
     "output_type": "stream",
     "text": [
      "\n",
      ".\\ftools.ado\n",
      "*! version 2.48.0 29mar2021\n",
      "\n",
      ".\\reghdfe.ado\n",
      "*! version 6.12.2 02Nov2021\n"
     ]
    }
   ],
   "source": [
    "which ftools\n",
    "which reghdfe"
   ]
  },
  {
   "cell_type": "code",
   "execution_count": 14,
   "id": "0add47e6",
   "metadata": {
    "ExecuteTime": {
     "end_time": "2024-09-26T07:50:52.818986Z",
     "start_time": "2024-09-26T07:50:51.083351Z"
    }
   },
   "outputs": [
    {
     "name": "stdout",
     "output_type": "stream",
     "text": [
      "\n",
      "(MWFE estimator converged in 2 iterations)\n",
      "\n",
      "HDFE Linear regression                            Number of obs   =    140,432\n",
      "Absorbing 2 HDFE groups                           F(   1,    535) =       5.23\n",
      "Statistics robust to heteroskedasticity           Prob > F        =     0.0226\n",
      "                                                  R-squared       =     0.0308\n",
      "                                                  Adj R-squared   =     0.0253\n",
      "                                                  Within R-sq.    =     0.0002\n",
      "Number of clusters (OBJECTID) =        536        Root MSE        =     0.3848\n",
      "\n",
      "                             (Std. err. adjusted for 536 clusters in OBJECTID)\n",
      "------------------------------------------------------------------------------\n",
      "             |               Robust\n",
      "ash~ypop1600 | Coefficient  std. err.      t    P>|t|     [95% conf. interval]\n",
      "-------------+----------------------------------------------------------------\n",
      "interaction1 |   .0380143    .016621     2.29   0.023     .0053639    .0706647\n",
      "       _cons |   .0313251   .0007227    43.35   0.000     .0299054    .0327447\n",
      "------------------------------------------------------------------------------\n",
      "\n",
      "Absorbed degrees of freedom:\n",
      "-----------------------------------------------------+\n",
      " Absorbed FE | Categories  - Redundant  = Num. Coefs |\n",
      "-------------+---------------------------------------|\n",
      "    OBJECTID |       536         536           0    *|\n",
      "        year |       262           1         261     |\n",
      "-----------------------------------------------------+\n",
      "* = FE nested within cluster; treated as redundant for DoF computation\n",
      "\n"
     ]
    }
   ],
   "source": [
    "**************************************************************************\n",
    "*** Table3. Canal closure and rebellions: baseline estimates\n",
    "**************************************************************************\n",
    "reghdfe $Y $X, absorb(i.OBJECTID i.year) cluster(OBJECTID)\n",
    "eststo est1"
   ]
  },
  {
   "cell_type": "code",
   "execution_count": 15,
   "id": "8a6efa0b",
   "metadata": {
    "ExecuteTime": {
     "end_time": "2024-09-26T07:51:33.965578Z",
     "start_time": "2024-09-26T07:51:32.742346Z"
    }
   },
   "outputs": [
    {
     "name": "stdout",
     "output_type": "stream",
     "text": [
      "\n",
      "(MWFE estimator converged in 2 iterations)\n",
      "\n",
      "HDFE Linear regression                            Number of obs   =    140,432\n",
      "Absorbing 2 HDFE groups                           F(   1,    535) =       5.23\n",
      "Statistics robust to heteroskedasticity           Prob > F        =     0.0226\n",
      "                                                  R-squared       =     0.0308\n",
      "                                                  Adj R-squared   =     0.0253\n",
      "                                                  Within R-sq.    =     0.0002\n",
      "Number of clusters (OBJECTID) =        536        Root MSE        =     0.3848\n",
      "\n",
      "                             (Std. err. adjusted for 536 clusters in OBJECTID)\n",
      "------------------------------------------------------------------------------\n",
      "             |               Robust\n",
      "ash~ypop1600 | Coefficient  std. err.      t    P>|t|     [95% conf. interval]\n",
      "-------------+----------------------------------------------------------------\n",
      "interaction1 |   .0380143    .016621     2.29   0.023     .0053639    .0706647\n",
      "       _cons |   .0313251   .0007227    43.35   0.000     .0299054    .0327447\n",
      "------------------------------------------------------------------------------\n",
      "\n",
      "Absorbed degrees of freedom:\n",
      "-----------------------------------------------------+\n",
      " Absorbed FE | Categories  - Redundant  = Num. Coefs |\n",
      "-------------+---------------------------------------|\n",
      "    OBJECTID |       536         536           0    *|\n",
      "        year |       262           1         261     |\n",
      "-----------------------------------------------------+\n",
      "* = FE nested within cluster; treated as redundant for DoF computation\n",
      "\n",
      "\n",
      "\n",
      "\n",
      "\n",
      "\n",
      "\n"
     ]
    }
   ],
   "source": [
    "**************************************************************************\n",
    "*** Table3. Canal closure and rebellions: baseline estimates\n",
    "**************************************************************************\n",
    "reghdfe $Y $X, absorb(i.OBJECTID i.year) cluster(OBJECTID)\n",
    "eststo est1\n",
    "qui tab OBJECTID if e(sample)\n",
    "scalar groups=r(r)\n",
    "qui su $Y if e(sample)\n",
    "scalar ymean=r(mean)\n",
    "estadd scalar depavg=ymean:est1\n",
    "estadd scalar N_g=groups:est1"
   ]
  },
  {
   "cell_type": "code",
   "execution_count": 17,
   "id": "027d004c",
   "metadata": {
    "ExecuteTime": {
     "end_time": "2024-09-26T07:53:44.908434Z",
     "start_time": "2024-09-26T07:53:44.390033Z"
    }
   },
   "outputs": [
    {
     "name": "stdout",
     "output_type": "stream",
     "text": [
      "\n",
      "----------------------------\n",
      "                      (1)   \n",
      "             ash~ypop1600   \n",
      "----------------------------\n",
      "interaction1       0.0380*  \n",
      "                   (2.29)   \n",
      "\n",
      "_cons              0.0313***\n",
      "                  (43.35)   \n",
      "----------------------------\n",
      "N                  140432   \n",
      "----------------------------\n",
      "t statistics in parentheses\n",
      "* p<0.05, ** p<0.01, *** p<0.001\n"
     ]
    }
   ],
   "source": [
    "esttab est1\n"
   ]
  },
  {
   "cell_type": "code",
   "execution_count": 16,
   "id": "e01dae5e",
   "metadata": {
    "ExecuteTime": {
     "end_time": "2024-09-26T07:52:45.500293Z",
     "start_time": "2024-09-26T07:52:45.101366Z"
    }
   },
   "outputs": [
    {
     "name": "stdout",
     "output_type": "stream",
     "text": [
      "  <dir>   2/20/24 11:20  .                 \n",
      "  <dir>   2/20/24 11:20  ..                \n",
      "1084.4k   5/01/22 23:11  1-setup-stata17.html\n",
      " 763.1k   5/02/22 15:29  2-data-cleaning.html\n",
      " 943.5k   5/04/22 20:50  3-table3-baseline.html\n",
      " 431.6k   4/25/22 12:11  A Tragedy of the Nomenklatura Career incentives politic\n",
      "> al loyalty and political radicalism during China s Great Leap Forward.pdf\n",
      "  20.4M   4/29/22 13:30  appendix 16535.pdf\n",
      "5046.6k   5/26/22 22:03  Cao & Chen (2022) Rebel on the Canal. AER.pdf\n",
      "  28.8M   5/02/22 15:18  Cao & Chen 2022 Rebell on the canal. AER preprint.pdf\n",
      " 141.9k   4/25/22 12:08  Cond. Accepted AER article distorts history to get DID \n",
      "> right « Economics Job Market Rumors.mhtml\n",
      "  <dir>   6/06/22 10:25  Data              \n",
      "   0.1k   5/14/22 23:09  example.csv       \n",
      "   1.4k   5/03/22  0:37  ftools.ado        \n",
      " 847.5k   4/25/22 12:09  James Kung_ a serial data manipulator « Economics Job M\n",
      "> arket Rumors.mhtml\n",
      "5631.5k   4/29/22 13:51  jmp_cao.pdf       \n",
      "  <dir>   2/20/24 16:34  Program           \n",
      " 300.4k   4/24/22 23:08  Readme.pdf        \n",
      "  28.7k   5/03/22  0:37  reghdfe.ado       \n",
      " 213.5k   4/25/22 12:10  Replicating the literature on meritocratic promotion in\n",
      ">  China - Michael Wiebe.mhtml\n",
      "  <dir>   2/20/24 16:57  Results           \n",
      "7845.2k   4/25/22 12:04  Robin_Hood_Web.pdf\n",
      "1729.0k   4/25/22 11:33  商榷 _ 对陈硕老师APSR文章结果的再质疑.mht\n"
     ]
    }
   ],
   "source": [
    "ls"
   ]
  },
  {
   "cell_type": "code",
   "execution_count": null,
   "id": "09e82d22",
   "metadata": {},
   "outputs": [],
   "source": []
  }
 ],
 "metadata": {
  "kernelspec": {
   "display_name": "Stata",
   "language": "stata",
   "name": "stata"
  },
  "language_info": {
   "codemirror_mode": "stata",
   "file_extension": ".do",
   "mimetype": "text/x-stata",
   "name": "stata",
   "version": "15.1"
  }
 },
 "nbformat": 4,
 "nbformat_minor": 5
}
